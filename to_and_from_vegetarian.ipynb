{
 "cells": [
  {
   "cell_type": "code",
   "execution_count": 1,
   "metadata": {},
   "outputs": [],
   "source": [
    "from bs4 import BeautifulSoup\n",
    "import requests\n",
    "import re\n",
    "import fractions"
   ]
  },
  {
   "cell_type": "code",
   "execution_count": 2,
   "metadata": {},
   "outputs": [],
   "source": [
    "\"\"\"\n",
    "\n",
    "web scraper\n",
    "\n",
    "\"\"\"\n",
    "\n",
    "def get_numbers(lst):\n",
    "    new_list = [int(x.split(':')[1]) if ':' in x else -1 for x in lst]\n",
    "    return new_list\n",
    "\n",
    "class RecipeFetcher:\n",
    "\n",
    "    search_base_url = 'https://www.allrecipes.com/search/results/?wt=%s&sort=re'\n",
    "\n",
    "    def search_recipes(self, keywords): \n",
    "        search_url = self.search_base_url %(keywords.replace(' ','+'))\n",
    "\n",
    "        page_html = requests.get(search_url)\n",
    "        page_graph = BeautifulSoup(page_html.content)\n",
    "\n",
    "        return [recipe.a['href'] for recipe in\\\n",
    "               page_graph.find_all('div', {'class':'grid-card-image-container'})]\n",
    "\n",
    "    def scrape_recipe(self, recipe_url):\n",
    "        results = {}\n",
    "\n",
    "        page_html = requests.get(recipe_url)\n",
    "        print(recipe_url)\n",
    "        page_graph = BeautifulSoup(page_html.content)\n",
    "        \n",
    "        find_name = [name.text for name in\\\n",
    "                          page_graph.find_all('h1', {'id': 'recipe-main-content'}, {'class': 'recipe-summary__h1'})]\n",
    "        results['name'] = find_name[0]\n",
    "\n",
    "        results['ingredients'] = [ingredient.text for ingredient in\\\n",
    "                                  page_graph.find_all('span', {'itemprop':'recipeIngredient'})]\n",
    "\n",
    "        results['directions'] = [direction.text.strip() for direction in\\\n",
    "                                 page_graph.find_all('span', {'class':'recipe-directions__list--item'})\n",
    "                                 if direction.text.strip()]\n",
    "\n",
    "        results['nutrition'] = self.scrape_nutrition_facts(recipe_url)\n",
    "        \n",
    "        results['calories_and_servings'] = self.scrape_calories_servings(recipe_url)\n",
    "\n",
    "        return results\n",
    "    \n",
    "    def scrape_nutrition_facts(self, recipe_url):\n",
    "        results = []\n",
    "\n",
    "        nutrition_facts_url = '%s/fullrecipenutrition' %(recipe_url)\n",
    "\n",
    "        page_html = requests.get(nutrition_facts_url)\n",
    "        page_graph = BeautifulSoup(page_html.content)\n",
    "\n",
    "        r = re.compile(\"([0-9]*\\.?[0-9]*)([a-zA-Z]+)\")\n",
    "        \n",
    "        nutrient = {}\n",
    "\n",
    "        for nutrient_row in page_graph.find_all('div', {'class': 'nutrition-row'}):\n",
    "            \n",
    "            lst = nutrient_row.text.split(':')\n",
    "            amount_lst = lst[1]\n",
    "            name = lst[0].replace('\\n', '')\n",
    "            \n",
    "            amount = amount_lst.split('\\n')\n",
    "            amount = [x.replace(' ', '') for x in amount[:2]]\n",
    "            \n",
    "            nutrient[name] = amount\n",
    "            \n",
    "        return nutrient\n",
    "    \n",
    "    def scrape_calories_servings(self, recipe_url):\n",
    "        \"\"\"\n",
    "        returns [servings per recipe, amt per serving, calories]\n",
    "        \"\"\"\n",
    "\n",
    "        nutrition_facts_url = '%s/fullrecipenutrition' %(recipe_url)\n",
    "\n",
    "        page_html = requests.get(nutrition_facts_url)\n",
    "        page_graph = BeautifulSoup(page_html.content)\n",
    "\n",
    "        r = re.compile(\"([0-9]*\\.?[0-9]*)([a-zA-Z]+)\")\n",
    "        \n",
    "        nutrient = {}\n",
    "\n",
    "        for row in page_graph.find_all('div', {'class': 'nutrition-top light-underline'}):\n",
    "            lst = row.text.split('\\n')\n",
    "            lst = list(filter(lambda a: a != '\\r', lst))\n",
    "            \n",
    "            calories = [x.lstrip() for x in lst]\n",
    "            calories.pop()\n",
    "            info = get_numbers(calories)\n",
    "            \n",
    "            return info"
   ]
  },
  {
   "cell_type": "code",
   "execution_count": 60,
   "metadata": {},
   "outputs": [
    {
     "name": "stdout",
     "output_type": "stream",
     "text": [
      "https://www.allrecipes.com/recipe/218091/classic-and-simple-meat-lasagna/\n"
     ]
    }
   ],
   "source": [
    "rf = RecipeFetcher()\n",
    "fluffy_pancakes = rf.search_recipes('meat lasagna')[0]\n",
    "res = rf.scrape_recipe(fluffy_pancakes)"
   ]
  },
  {
   "cell_type": "code",
   "execution_count": 61,
   "metadata": {},
   "outputs": [
    {
     "data": {
      "text/plain": [
       "{'name': 'Classic and Simple Meat Lasagna',\n",
       " 'ingredients': ['12 whole wheat lasagna noodles',\n",
       "  '1 pound lean ground beef',\n",
       "  '2 cloves garlic, chopped',\n",
       "  '1/2 teaspoon garlic powder',\n",
       "  '1 teaspoon dried oregano, or to taste',\n",
       "  'salt and ground black pepper to taste',\n",
       "  '1 (16 ounce) package cottage cheese',\n",
       "  '2 eggs',\n",
       "  '1/2 cup shredded Parmesan cheese',\n",
       "  '1 1/2 (25 ounce) jars tomato-basil pasta sauce',\n",
       "  '2 cups shredded mozzarella cheese'],\n",
       " 'directions': ['Preheat oven to 350 degrees F (175 degrees C).',\n",
       "  'Fill a large pot with lightly salted water and bring to a rolling boil over high heat. Once the water is boiling, add the lasagna noodles a few at a time, and return to a boil. Cook the pasta uncovered, stirring occasionally, until the pasta has cooked through, but is still firm to the bite, about 10 minutes. Remove the noodles to a plate.',\n",
       "  'Place the ground beef into a skillet over medium heat, add the garlic, garlic powder, oregano, salt, and black pepper to the skillet. Cook the meat, chopping it into small chunks as it cooks, until no longer pink, about 10 minutes. Drain excess grease.',\n",
       "  'In a bowl, mix the cottage cheese, eggs, and Parmesan cheese until thoroughly combined.',\n",
       "  'Place 4 noodles side by side into the bottom of a 9x13-inch baking pan; top with a layer of the tomato-basil sauce, a layer of ground beef mixture, and a layer of the cottage cheese mixture. Repeat layers twice more, ending with a layer of sauce; sprinkle top with the mozzarella cheese. Cover the dish with aluminum foil.',\n",
       "  'Bake in the preheated oven until the casserole is bubbling and the cheese has melted, about 30 minutes. Remove foil and bake until cheese has begun to brown, about 10 more minutes. Allow to stand at least 10 minutes before serving.'],\n",
       " 'nutrition': {'Total Fat': ['19.3g', '30%'],\n",
       "  'Saturated Fat': ['9.0g', ''],\n",
       "  'Cholesterol': ['115mg', '38%'],\n",
       "  'Sodium': ['999mg', '40%'],\n",
       "  'Potassium': ['717mg', '20%'],\n",
       "  'Total Carbohydrates': ['47.1g', '15%'],\n",
       "  'Dietary Fiber': ['6.3g', '25%'],\n",
       "  'Protein': ['35.6g', '71%'],\n",
       "  'Sugars': ['12g', ''],\n",
       "  'Vitamin A': ['855IU', ''],\n",
       "  'Vitamin C': ['2mg', ''],\n",
       "  'Calcium': ['361mg', ''],\n",
       "  'Iron': ['4mg', ''],\n",
       "  'Thiamin': ['0mg', ''],\n",
       "  'Niacin': ['11mg', ''],\n",
       "  'Vitamin B6': ['0mg', ''],\n",
       "  'Magnesium': ['74mg', ''],\n",
       "  'Folate': ['41mcg', '']},\n",
       " 'calories_and_servings': [8, -1, 501]}"
      ]
     },
     "execution_count": 61,
     "metadata": {},
     "output_type": "execute_result"
    }
   ],
   "source": [
    "res"
   ]
  },
  {
   "cell_type": "code",
   "execution_count": 62,
   "metadata": {},
   "outputs": [
    {
     "data": {
      "text/plain": [
       "'Classic and Simple Meat Lasagna'"
      ]
     },
     "execution_count": 62,
     "metadata": {},
     "output_type": "execute_result"
    }
   ],
   "source": [
    "res['name']"
   ]
  },
  {
   "cell_type": "code",
   "execution_count": 63,
   "metadata": {},
   "outputs": [
    {
     "data": {
      "text/plain": [
       "['12 whole wheat lasagna noodles',\n",
       " '1 pound lean ground beef',\n",
       " '2 cloves garlic, chopped',\n",
       " '1/2 teaspoon garlic powder',\n",
       " '1 teaspoon dried oregano, or to taste',\n",
       " 'salt and ground black pepper to taste',\n",
       " '1 (16 ounce) package cottage cheese',\n",
       " '2 eggs',\n",
       " '1/2 cup shredded Parmesan cheese',\n",
       " '1 1/2 (25 ounce) jars tomato-basil pasta sauce',\n",
       " '2 cups shredded mozzarella cheese']"
      ]
     },
     "execution_count": 63,
     "metadata": {},
     "output_type": "execute_result"
    }
   ],
   "source": [
    "ingredients = res['ingredients']\n",
    "ingredients"
   ]
  },
  {
   "cell_type": "code",
   "execution_count": 64,
   "metadata": {},
   "outputs": [],
   "source": [
    "def replace_veggie(meat):\n",
    "    new_meat = meat.replace(\"(\", \"\")\n",
    "    new_meat = new_meat.replace(\")\", \"\")\n",
    "    new_meat = new_meat.replace(\"/\", \" \")\n",
    "    meat_lst = new_meat.split()\n",
    "    \n",
    "    original_quantity = []\n",
    "    ingredient_name = ''\n",
    "\n",
    "    # split ingredient into tokens to separate the 'quantity' from 'ingredient_name'\n",
    "    for token in meat_lst:            \n",
    "        if any([str(digit) in token for digit in range(10)]) and not any([char in token for char in ['(', ')']]):\n",
    "            fraction_obj = sum(map(fractions.Fraction, token.split()))\n",
    "            as_float = int(fraction_obj)\n",
    "            original_quantity.append(as_float)\n",
    "        else:\n",
    "            ingredient_name = ingredient_name + ' ' + token\n",
    "       \n",
    "\n",
    "    new_quantity = original_quantity\n",
    "    \n",
    "    if len(new_quantity) > 1:\n",
    "        num = new_quantity[-1]\n",
    "    else:\n",
    "        num = new_quantity[0]\n",
    "      \n",
    "    replace_idx = meat_lst.index(str(num)) + 2\n",
    "    \n",
    "    replace_term = meat_lst[replace_idx: ]\n",
    "    s = \" \"\n",
    "    term = s.join(replace_term)\n",
    "    veggie = meat.replace(term, \"chicken\")\n",
    "    return veggie   "
   ]
  },
  {
   "cell_type": "code",
   "execution_count": 65,
   "metadata": {},
   "outputs": [],
   "source": [
    "def replace_meat(ingredients, meat, type_of_meat_lst, first):\n",
    "    \n",
    "    new_meat = meat.replace(\"(\", \"\")\n",
    "    new_meat = new_meat.replace(\")\", \"\")\n",
    "    new_meat = new_meat.replace(\"/\", \" \")\n",
    "    meat_lst = new_meat.split()\n",
    "    \n",
    "    original_quantity = []\n",
    "    ingredient_name = ''\n",
    "\n",
    "    # split ingredient into tokens to separate the 'quantity' from 'ingredient_name'\n",
    "    for token in meat_lst:            \n",
    "        if any([str(digit) in token for digit in range(10)]) and not any([char in token for char in ['(', ')']]):\n",
    "            fraction_obj = sum(map(fractions.Fraction, token.split()))\n",
    "            as_float = int(fraction_obj)\n",
    "            original_quantity.append(as_float)\n",
    "        else:\n",
    "            ingredient_name = ingredient_name + ' ' + token\n",
    "       \n",
    "\n",
    "    new_quantity = original_quantity\n",
    "    \n",
    "    if len(new_quantity) > 1:\n",
    "        num = new_quantity[-1]\n",
    "    else:\n",
    "        num = new_quantity[0]\n",
    "      \n",
    "    replace_idx = meat_lst.index(str(num)) + 2\n",
    "    \n",
    "    # second meat replacement\n",
    "    if not first:\n",
    "        replace_term = meat_lst[replace_idx: ]\n",
    "        s = \" \"\n",
    "        term = s.join(replace_term)\n",
    "        veggie = meat.replace(term, \"veggie sausage\")\n",
    "        return veggie\n",
    "\n",
    "    # ground meat replacement\n",
    "    if type_of_meat_lst[0]:\n",
    "        replace_term = meat_lst[replace_idx: ]\n",
    "        s = \" \"\n",
    "        term = s.join(replace_term)\n",
    "        veggie = meat.replace(term, \"ground tofu\")\n",
    "        return veggie\n",
    "       \n",
    "    # meat replacement\n",
    "    if type_of_meat_lst[1]:\n",
    "        replace_term = meat_lst[replace_idx: ]\n",
    "        s = \" \"\n",
    "        term = s.join(replace_term)\n",
    "        veggie = meat.replace(term, \"tofu\")\n",
    "        return veggie\n",
    "        \n",
    "    # sandwich meat replacement\n",
    "    if type_of_meat_lst[2]:\n",
    "        replace_term = meat_lst[replace_idx: ]\n",
    "        s = \" \"\n",
    "        term = s.join(replace_term)\n",
    "        veggie = meat.replace(term, \"impossible burger\")\n",
    "        return veggie\n",
    "        \n",
    "    # seafood replacement\n",
    "    if type_of_meat_lst[3]:\n",
    "        replace_term = meat_lst[replace_idx: ]\n",
    "        s = \" \"\n",
    "        term = s.join(replace_term)\n",
    "        veggie = meat.replace(term, \"tofuna fysh\")\n",
    "        return veggie\n",
    "        \n",
    "    # turkey/chicken sandwich meat replacement\n",
    "    if type_of_meat_lst[4] or type_of_meat_lst[5]:\n",
    "        replace_term = meat_lst[replace_idx: ]\n",
    "        s = \" \"\n",
    "        term = s.join(replace_term)\n",
    "        veggie = meat.replace(term, \"tofurkey\")\n",
    "        return veggie"
   ]
  },
  {
   "cell_type": "code",
   "execution_count": 66,
   "metadata": {},
   "outputs": [],
   "source": [
    "def look_for_meat(ingredients):\n",
    "    ground_meat_lst = ['ground beef', 'ground chicken', 'ground meat', 'ground turkey', 'ground lamb', 'ground pork', 'ground bison']\n",
    "    meat_lst = ['chicken', 'steak', 'beef', 'lamb', 'bacon', 'pork', 'duck', 'bison', 'rabbit', 'cow', 'sausage', 'turkey']\n",
    "    sandwich_meat_lst = ['hamburger', 'cheeseburger', 'sloppy joe']\n",
    "    turkey_sandwich = ['turkey', 'slice']\n",
    "    chicken_sandwich = ['chicken', 'slice']\n",
    "    seafood_lst = ['salmon', 'cod', 'fish', 'halibut', 'shellfish', 'crab', 'lobster', 'shrimp', 'prawn', 'scallop']\n",
    "    vegetarians_lst = ['tofu', 'tofurkey', 'impossible burger', 'veggie burger']\n",
    "    \n",
    "    ground = False\n",
    "    meat = False\n",
    "    sandwich = False\n",
    "    seafood = False\n",
    "    turkey = False\n",
    "    chicken = False\n",
    "    \n",
    "    vegetarian = True\n",
    "    vegetarian_recipe = True\n",
    "    \n",
    "    first = True\n",
    "\n",
    "    for n, ingredient in enumerate(ingredients):\n",
    "        if any(x in ingredient.lower() for x in vegetarians_lst):\n",
    "            new_ingredient = replace_veggie(ingredient)\n",
    "            ingredients[n] = new_ingredient\n",
    "            vegetarian = False\n",
    "            break\n",
    "            \n",
    "        if 'bread' not in ingredient.lower():\n",
    "            #if any(x in ingredient.lower() for x in turkey_sandwich):\n",
    "            if 'slice' in ingredient.lower() and 'turkey' in ingredient.lower():\n",
    "                turkey = True\n",
    "                replace_meat_lst = [ground, meat, sandwich, seafood, turkey, chicken]\n",
    "                new_ingredient = replace_meat(ingredients, ingredient, replace_meat_lst, first)\n",
    "                ingredients[n] = new_ingredient\n",
    "                first = False\n",
    "                vegetarian = False\n",
    "                vegetarian_recipe = False\n",
    "                continue\n",
    "            #if any(x in ingredient.lower() for x in chicken_sandwich):\n",
    "            if 'slice' in ingredient.lower() and 'chicken' in ingredient.lower():\n",
    "                chicken = True\n",
    "                replace_meat_lst = [ground, meat, sandwich, seafood, turkey, chicken]\n",
    "                new_ingredient = replace_meat(ingredients, ingredient, replace_meat_lst, first)\n",
    "                ingredients[n] = new_ingredient\n",
    "                first = False\n",
    "                vegetarian = False\n",
    "                vegetarian_recipe = False\n",
    "                continue\n",
    "        if any(x in ingredient.lower() for x in ground_meat_lst):\n",
    "            ground = True\n",
    "            replace_meat_lst = [ground, meat, sandwich, seafood, turkey, chicken]\n",
    "            new_ingredient = replace_meat(ingredients, ingredient, replace_meat_lst, first)\n",
    "            ingredients[n] = new_ingredient\n",
    "            first = False\n",
    "            vegetarian = False\n",
    "            vegetarian_recipe = False\n",
    "            continue\n",
    "        if any(x in ingredient.lower() for x in meat_lst):\n",
    "            meat = True\n",
    "            replace_meat_lst = [ground, meat, sandwich, seafood, turkey, chicken]\n",
    "            new_ingredient = replace_meat(ingredients, ingredient, replace_meat_lst, first)\n",
    "            ingredients[n] = new_ingredient\n",
    "            first = False\n",
    "            vegetarian = False\n",
    "            vegetarian_recipe = False\n",
    "            continue\n",
    "        if any(x in ingredient.lower() for x in sandwich_meat_lst):\n",
    "            sandwich = True\n",
    "            replace_meat_lst = [ground, meat, sandwich, seafood, turkey, chicken]\n",
    "            new_ingredient = replace_meat(ingredients, ingredient, replace_meat_lst, first)\n",
    "            ingredients[n] = new_ingredient\n",
    "            first = False\n",
    "            vegetarian = False\n",
    "            vegetarian_recipe = False\n",
    "            continue\n",
    "        if any(x in ingredient.lower() for x in seafood_lst):\n",
    "            seafood = True\n",
    "            replace_meat_lst = [ground, meat, sandwich, seafood, turkey, chicken]\n",
    "            new_ingredient = replace_meat(ingredients, ingredient, replace_meat_lst, first)\n",
    "            ingredients[n] = new_ingredient\n",
    "            first = False\n",
    "            vegetarian = False\n",
    "            vegetarian_recipe = False\n",
    "            continue\n",
    "            \n",
    "    if vegetarian:\n",
    "        new_ingredient = '1 pound chicken breast'\n",
    "        ingredients.append(new_ingredient)\n",
    "              \n",
    "    return ingredients, vegetarian_recipe"
   ]
  },
  {
   "cell_type": "code",
   "execution_count": 67,
   "metadata": {},
   "outputs": [
    {
     "data": {
      "text/plain": [
       "['12 whole wheat lasagna noodles',\n",
       " '1 pound lean ground beef',\n",
       " '2 cloves garlic, chopped',\n",
       " '1/2 teaspoon garlic powder',\n",
       " '1 teaspoon dried oregano, or to taste',\n",
       " 'salt and ground black pepper to taste',\n",
       " '1 (16 ounce) package cottage cheese',\n",
       " '2 eggs',\n",
       " '1/2 cup shredded Parmesan cheese',\n",
       " '1 1/2 (25 ounce) jars tomato-basil pasta sauce',\n",
       " '2 cups shredded mozzarella cheese']"
      ]
     },
     "execution_count": 67,
     "metadata": {},
     "output_type": "execute_result"
    }
   ],
   "source": [
    "ingredients"
   ]
  },
  {
   "cell_type": "code",
   "execution_count": 68,
   "metadata": {},
   "outputs": [
    {
     "data": {
      "text/plain": [
       "['12 whole wheat lasagna noodles',\n",
       " '1 pound ground tofu',\n",
       " '2 cloves garlic, chopped',\n",
       " '1/2 teaspoon garlic powder',\n",
       " '1 teaspoon dried oregano, or to taste',\n",
       " 'salt and ground black pepper to taste',\n",
       " '1 (16 ounce) package cottage cheese',\n",
       " '2 eggs',\n",
       " '1/2 cup shredded Parmesan cheese',\n",
       " '1 1/2 (25 ounce) jars tomato-basil pasta sauce',\n",
       " '2 cups shredded mozzarella cheese']"
      ]
     },
     "execution_count": 68,
     "metadata": {},
     "output_type": "execute_result"
    }
   ],
   "source": [
    "p, recipe = look_for_meat(ingredients)\n",
    "p"
   ]
  },
  {
   "cell_type": "code",
   "execution_count": 69,
   "metadata": {},
   "outputs": [
    {
     "data": {
      "text/plain": [
       "False"
      ]
     },
     "execution_count": 69,
     "metadata": {},
     "output_type": "execute_result"
    }
   ],
   "source": [
    "recipe"
   ]
  },
  {
   "cell_type": "code",
   "execution_count": 70,
   "metadata": {},
   "outputs": [],
   "source": [
    "def change_recipe(res, change_to_meat):\n",
    "    directions = res['directions']\n",
    "    ingredients = res['ingredients']\n",
    "    name = res['name']\n",
    "    if change_to_meat:\n",
    "        new_directions = change_directions_to_meat(directions, ingredients, name)\n",
    "    else:\n",
    "        new_directions = change_directions_to_veggie(directions, ingredients, name)\n",
    "    return new_directions"
   ]
  },
  {
   "cell_type": "code",
   "execution_count": 71,
   "metadata": {},
   "outputs": [
    {
     "data": {
      "text/plain": [
       "['Preheat oven to 350 degrees F (175 degrees C).',\n",
       " 'Fill a large pot with lightly salted water and bring to a rolling boil over high heat. Once the water is boiling, add the lasagna noodles a few at a time, and return to a boil. Cook the pasta uncovered, stirring occasionally, until the pasta has cooked through, but is still firm to the bite, about 10 minutes. Remove the noodles to a plate.',\n",
       " 'Place the ground beef into a skillet over medium heat, add the garlic, garlic powder, oregano, salt, and black pepper to the skillet. Cook the meat, chopping it into small chunks as it cooks, until no longer pink, about 10 minutes. Drain excess grease.',\n",
       " 'In a bowl, mix the cottage cheese, eggs, and Parmesan cheese until thoroughly combined.',\n",
       " 'Place 4 noodles side by side into the bottom of a 9x13-inch baking pan; top with a layer of the tomato-basil sauce, a layer of ground beef mixture, and a layer of the cottage cheese mixture. Repeat layers twice more, ending with a layer of sauce; sprinkle top with the mozzarella cheese. Cover the dish with aluminum foil.',\n",
       " 'Bake in the preheated oven until the casserole is bubbling and the cheese has melted, about 30 minutes. Remove foil and bake until cheese has begun to brown, about 10 more minutes. Allow to stand at least 10 minutes before serving.']"
      ]
     },
     "execution_count": 71,
     "metadata": {},
     "output_type": "execute_result"
    }
   ],
   "source": [
    "directions = res['directions']\n",
    "ingredients = res['ingredients']\n",
    "directions"
   ]
  },
  {
   "cell_type": "code",
   "execution_count": 72,
   "metadata": {},
   "outputs": [
    {
     "data": {
      "text/plain": [
       "['12 whole wheat lasagna noodles',\n",
       " '1 pound ground tofu',\n",
       " '2 cloves garlic, chopped',\n",
       " '1/2 teaspoon garlic powder',\n",
       " '1 teaspoon dried oregano, or to taste',\n",
       " 'salt and ground black pepper to taste',\n",
       " '1 (16 ounce) package cottage cheese',\n",
       " '2 eggs',\n",
       " '1/2 cup shredded Parmesan cheese',\n",
       " '1 1/2 (25 ounce) jars tomato-basil pasta sauce',\n",
       " '2 cups shredded mozzarella cheese']"
      ]
     },
     "execution_count": 72,
     "metadata": {},
     "output_type": "execute_result"
    }
   ],
   "source": [
    "ingredients"
   ]
  },
  {
   "cell_type": "code",
   "execution_count": 73,
   "metadata": {},
   "outputs": [],
   "source": [
    "def get_veggie_burger(directions, ingredients):\n",
    "    add_meat = True\n",
    "    burger = ['pattie', 'burger', 'patti', 'hamburger', 'cheeseburger']\n",
    "    new_dir = \"Grill each side of veggie pattie for 5 minutes on grill.\"\n",
    "    \n",
    "    for n, step in enumerate(directions):\n",
    "        if any(burger) in step.lower().split():\n",
    "            directions[n] = new_dir\n",
    "            \n",
    "    if add_meat:\n",
    "        directions.append(new_dir)\n",
    "        \n",
    "    return directions"
   ]
  },
  {
   "cell_type": "code",
   "execution_count": 74,
   "metadata": {},
   "outputs": [],
   "source": [
    "def get_veggie_pasta(directions, ingredients):\n",
    "    add_meat = True\n",
    "    meat_lst = ['chicken', 'steak', 'beef', 'lamb', 'bacon', 'pork', 'duck', 'bison', 'rabbit', 'cow', 'sausage', 'turkey']\n",
    "    new_dir = \"Drizzle pan with olive oil. Stir fry chopped tofu in pan over medium heat until golden brown. Mix tofu with pasta.\"\n",
    "    \n",
    "    for n, step in enumerate(directions):\n",
    "        if any(meat_lst) in step.lower().split():\n",
    "            directions[n] = new_dir\n",
    "            add_meat = False\n",
    "            \n",
    "    if add_meat:\n",
    "        directions.append(new_dir)\n",
    "        \n",
    "    return directions"
   ]
  },
  {
   "cell_type": "code",
   "execution_count": 75,
   "metadata": {},
   "outputs": [],
   "source": [
    "def get_veggie_rice(directions, ingredients):\n",
    "    add_meat = True\n",
    "    meat_lst = ['chicken', 'steak', 'beef', 'lamb', 'bacon', 'pork', 'duck', 'bison', 'rabbit', 'cow', 'sausage', 'turkey']\n",
    "    new_dir = \"Drizzle pan with olive oil. Stir fry chopped tofu in pan over medium heat until golden brown. Mix tofu with rice.\"\n",
    "    \n",
    "    for n, step in enumerate(directions):\n",
    "        if any(meat_lst) in step.lower().split():\n",
    "            directions[n] = new_dir\n",
    "            add_meat = False\n",
    "            \n",
    "    if add_meat:\n",
    "        directions.append(new_dir)\n",
    "        \n",
    "    return directions"
   ]
  },
  {
   "cell_type": "code",
   "execution_count": 76,
   "metadata": {},
   "outputs": [],
   "source": [
    "def get_veggie_main(directions, ingredients):\n",
    "    add_meat = True\n",
    "    meat_lst = ['chicken', 'steak', 'beef', 'lamb', 'bacon', 'pork', 'duck', 'bison', 'rabbit', 'cow', 'sausage', 'turkey']\n",
    "    new_dir = \"Drizzle pan with olive oil. Stir fry chopped tofu in pan over medium heat until golden brown.\"\n",
    "    \n",
    "    for n, step in enumerate(directions):\n",
    "        if any(meat_lst) in step.lower().split():\n",
    "            directions[n] = new_dir\n",
    "            add_meat = False\n",
    "            \n",
    "    if add_meat:\n",
    "        directions.append(new_dir)\n",
    "        \n",
    "    return directions"
   ]
  },
  {
   "cell_type": "code",
   "execution_count": 77,
   "metadata": {},
   "outputs": [],
   "source": [
    "def replace_veggie_direction(direction, old_word, new_word):\n",
    "    words = direction.lower().split()\n",
    "    \n",
    "    idx = words.index(old_word)\n",
    "    replace_this = words[idx+1]\n",
    "    \n",
    "    lower_dir = direction.lower()\n",
    "    new_direction = lower_dir.replace(replace_this, new_word)\n",
    "    \n",
    "    return new_direction"
   ]
  },
  {
   "cell_type": "code",
   "execution_count": 78,
   "metadata": {},
   "outputs": [],
   "source": [
    "def get_veggie_ground(directions, ingredients):\n",
    "    print(\"getting ground veggie directions\")\n",
    "    for n, step in enumerate(directions):\n",
    "        if 'ground' in step.lower().split():\n",
    "            directions[n] = replace_veggie_direction(step, 'ground', 'tofu')  \n",
    "    return directions"
   ]
  },
  {
   "cell_type": "code",
   "execution_count": 79,
   "metadata": {},
   "outputs": [],
   "source": [
    "def change_directions_to_veggie(directions, ingredients, name):\n",
    "    food_category = get_category_recipe(name)\n",
    "    print(food_category)\n",
    "    \n",
    "    if food_category is 'pasta':\n",
    "        new_directions = get_veggie_pasta(directions, ingredients)\n",
    "        return new_directions\n",
    "    elif food_category is 'burger':\n",
    "        new_directions = get_veggie_burger(directions, ingredients)\n",
    "        return new_directions\n",
    "    elif food_category is 'main protein':\n",
    "        new_directions = get_veggie_main(directions, ingredients)\n",
    "        return new_directions\n",
    "    elif food_category is 'ground':\n",
    "        new_directions = get_veggie_ground(directions, ingredients)\n",
    "        return new_directions\n",
    "    elif food_category is 'rice':\n",
    "        new_directions = get_veggie_rice(directions, ingredients)\n",
    "        return new_directions\n",
    "    else:\n",
    "        new_directions = get_veggie_main(directions, ingredients)\n",
    "        return new_directions"
   ]
  },
  {
   "cell_type": "code",
   "execution_count": 80,
   "metadata": {},
   "outputs": [],
   "source": [
    "def replace_direction(direction, old_word, new_word):\n",
    "    words = direction.lower()\n",
    "    new_direction = words.replace(old_word, new_word)\n",
    "    return new_direction"
   ]
  },
  {
   "cell_type": "code",
   "execution_count": 81,
   "metadata": {},
   "outputs": [],
   "source": [
    "def get_meat_burger(directions, ingredients):\n",
    "    add_meat = True\n",
    "    burger = ['impossible', 'burger']\n",
    "    \n",
    "    for n, step in enumerate(directions):\n",
    "        if 'impossible' in step.lower().split():\n",
    "            directions[n] = \"Form pattie shapes with hamburger meat. Grill each side of pattie for 5 minutes at medium heat.\"\n",
    "            add_meat = False\n",
    "        elif 'veggie' in step.lower().split():\n",
    "            directions[n] = \"Form pattie shapes with hamburger meat. Grill each side of pattie for 5 minutes at medium heat.\"\n",
    "            add_meat = False\n",
    "        elif 'patti' in step.lower().split():\n",
    "            directions[n] = \"Form pattie shapes with hamburger meat. Grill each side of pattie for 5 minutes at medium heat.\"\n",
    "            add_meat = False   \n",
    "            \n",
    "    if add_meat:\n",
    "        new_dir = \"Form pattie shapes with hamburger meat. Grill each side of pattie for 5 minutes at medium heat.\"\n",
    "        directions.append(new_dir)\n",
    "        \n",
    "    return directions"
   ]
  },
  {
   "cell_type": "code",
   "execution_count": 82,
   "metadata": {},
   "outputs": [],
   "source": [
    "def get_meat_pasta(directions, ingredients):\n",
    "    add_meat = True\n",
    "    burger = ['impossible', 'burger']\n",
    "    \n",
    "    for n, step in enumerate(directions):\n",
    "        if 'tofurkey' in step.lower().split():\n",
    "            directions[n] = replace_direction(step, 'tofurkey', 'chicken')\n",
    "            add_meat = False\n",
    "        if 'tofu' in step.lower().split():\n",
    "            directions[n] = replace_direction(step, 'tofu', 'chicken')\n",
    "            add_meat = False\n",
    "        if 'seitan' in step.lower().split():\n",
    "            directions[n] = replace_direction(step, 'seitan', 'chicken')\n",
    "            add_meat = False   \n",
    "        if all(burger) in step.lower().split():\n",
    "            directions[n] = replace_direction(step, 'burger', 'chicken')\n",
    "            add_meat = False\n",
    "            \n",
    "    if add_meat:\n",
    "        new_dir = \"Add olive oil to a pan and chop chicken breast into bite size chunks. Then stir fry the chicken the pan at medium heat for 5 minutes each side. Mix chicken with pasta.\"\n",
    "        directions.append(new_dir)\n",
    "        \n",
    "    return directions"
   ]
  },
  {
   "cell_type": "code",
   "execution_count": 83,
   "metadata": {},
   "outputs": [],
   "source": [
    "def get_meat_main(directions, ingredients):\n",
    "    add_meat = True\n",
    "    \n",
    "    for n, step in enumerate(directions):\n",
    "        if 'tofurkey' in step.lower().split():\n",
    "            directions[n] = replace_direction(step, 'tofurkey', 'chicken')\n",
    "            add_meat = False\n",
    "        if 'tofu' in step.lower().split():\n",
    "            directions[n] = replace_direction(step, 'tofu', 'chicken')\n",
    "            add_meat = False\n",
    "        if 'seitan' in step.lower().split():\n",
    "            directions[n] = replace_direction(step, 'seitan', 'chicken')\n",
    "            add_meat = False   \n",
    "            \n",
    "    if add_meat:\n",
    "        new_dir = \"Make sure oven is at 400 degrees Farenheit. Place turkey breast on tinfoil and put in oven for 45 minutes.\"\n",
    "        directions.append(new_dir)\n",
    "        \n",
    "    return directions"
   ]
  },
  {
   "cell_type": "code",
   "execution_count": 84,
   "metadata": {},
   "outputs": [],
   "source": [
    "def get_meat_rice(directions, ingredients):\n",
    "    add_meat = True\n",
    "    burger = ['impossible', 'burger']\n",
    "    \n",
    "    for n, step in enumerate(directions):\n",
    "        if 'tofurkey' in step.lower().split():\n",
    "            directions[n] = replace_direction(step, 'tofurkey', 'chicken')\n",
    "            add_meat = False\n",
    "        if 'tofu' in step.lower().split():\n",
    "            directions[n] = replace_direction(step, 'tofu', 'chicken')\n",
    "            add_meat = False\n",
    "        if 'seitan' in step.lower().split():\n",
    "            directions[n] = replace_direction(step, 'seitan', 'chicken')\n",
    "            add_meat = False   \n",
    "        if all(burger) in step.lower().split():\n",
    "            directions[n] = replace_direction(step, 'burger', 'chicken')\n",
    "            add_meat = False\n",
    "            \n",
    "    if add_meat:\n",
    "        new_dir = \"Add olive oil to a pan and chop chicken breast into bite size chunks. Then stir fry the chicken the pan at medium heat for 5 minutes each side. Mix chicken with rice.\"\n",
    "        directions.append(new_dir)\n",
    "        \n",
    "    return directions"
   ]
  },
  {
   "cell_type": "code",
   "execution_count": 85,
   "metadata": {},
   "outputs": [],
   "source": [
    "def get_meat_ground(directions, ingredients):\n",
    "    add_meat = True\n",
    "    burger = ['impossible', 'burger']\n",
    "    \n",
    "    for n, step in enumerate(directions):\n",
    "        if 'tofurkey' in step.lower().split():\n",
    "            directions[n] = replace_direction(step, 'tofurkey', 'ground chicken')\n",
    "            add_meat = False\n",
    "        if 'tofu' in step.lower().split():\n",
    "            directions[n] = replace_direction(step, 'tofu', 'ground chicken')\n",
    "            add_meat = False\n",
    "        if 'seitan' in step.lower().split():\n",
    "            directions[n] = replace_direction(step, 'seitan', 'ground chicken')\n",
    "            add_meat = False   \n",
    "        if all(burger) in step.lower().split():\n",
    "            directions[n] = replace_direction(step, 'burger', 'ground chicken')\n",
    "            add_meat = False\n",
    "            \n",
    "    if add_meat:\n",
    "        new_dir = \"Grind chicken and mix with rest of ingredients.\"\n",
    "        directions.append(new_dir)\n",
    "        \n",
    "    return directions"
   ]
  },
  {
   "cell_type": "code",
   "execution_count": 86,
   "metadata": {},
   "outputs": [],
   "source": [
    "def change_directions_to_meat(directions, ingredients, name):\n",
    "    food_category = get_category_recipe(name)\n",
    "    print(food_category)\n",
    "    \n",
    "    if food_category is 'pasta':\n",
    "        new_directions = get_meat_pasta(directions, ingredients)\n",
    "        return new_directions\n",
    "    elif food_category is 'burger':\n",
    "        new_directions = get_meat_burger(directions, ingredients)\n",
    "        return new_directions\n",
    "    elif food_category is 'main protein':\n",
    "        new_directions = get_meat_main(directions, ingredients)\n",
    "        return new_directions\n",
    "    elif food_category is 'ground':\n",
    "        new_directions = get_meat_ground(directions, ingredients)\n",
    "        return new_directions\n",
    "    elif food_category is 'rice':\n",
    "        new_directions = get_meat_rice(directions, ingredients)\n",
    "        return new_directions\n",
    "    else:\n",
    "        new_directions = get_meat_main(directions, ingredients)\n",
    "        return new_directions"
   ]
  },
  {
   "cell_type": "code",
   "execution_count": 87,
   "metadata": {},
   "outputs": [],
   "source": [
    "def get_category_recipe(recipe_name):\n",
    "    name = recipe_name.lower()\n",
    "    pasta_lst = ['pasta', 'noodle', 'mein', 'pad thai']\n",
    "    main_lst = ['roasted', 'fried', 'baked']\n",
    "\n",
    "    print(name)\n",
    "    \n",
    "    if any(pasta_lst) in name.split():\n",
    "        return 'pasta'\n",
    "    if 'burger' in name:\n",
    "        return 'burger'\n",
    "    if  any(main_lst) in name.split():\n",
    "        return 'main protein'\n",
    "    if 'lasagna' in name:\n",
    "        return 'ground'\n",
    "    if 'rice' in name:\n",
    "        return 'rice'\n",
    "    return 'main protein'"
   ]
  },
  {
   "cell_type": "code",
   "execution_count": 88,
   "metadata": {},
   "outputs": [
    {
     "data": {
      "text/plain": [
       "{'name': 'Classic and Simple Meat Lasagna',\n",
       " 'ingredients': ['12 whole wheat lasagna noodles',\n",
       "  '1 pound ground tofu',\n",
       "  '2 cloves garlic, chopped',\n",
       "  '1/2 teaspoon garlic powder',\n",
       "  '1 teaspoon dried oregano, or to taste',\n",
       "  'salt and ground black pepper to taste',\n",
       "  '1 (16 ounce) package cottage cheese',\n",
       "  '2 eggs',\n",
       "  '1/2 cup shredded Parmesan cheese',\n",
       "  '1 1/2 (25 ounce) jars tomato-basil pasta sauce',\n",
       "  '2 cups shredded mozzarella cheese'],\n",
       " 'directions': ['Preheat oven to 350 degrees F (175 degrees C).',\n",
       "  'Fill a large pot with lightly salted water and bring to a rolling boil over high heat. Once the water is boiling, add the lasagna noodles a few at a time, and return to a boil. Cook the pasta uncovered, stirring occasionally, until the pasta has cooked through, but is still firm to the bite, about 10 minutes. Remove the noodles to a plate.',\n",
       "  'Place the ground beef into a skillet over medium heat, add the garlic, garlic powder, oregano, salt, and black pepper to the skillet. Cook the meat, chopping it into small chunks as it cooks, until no longer pink, about 10 minutes. Drain excess grease.',\n",
       "  'In a bowl, mix the cottage cheese, eggs, and Parmesan cheese until thoroughly combined.',\n",
       "  'Place 4 noodles side by side into the bottom of a 9x13-inch baking pan; top with a layer of the tomato-basil sauce, a layer of ground beef mixture, and a layer of the cottage cheese mixture. Repeat layers twice more, ending with a layer of sauce; sprinkle top with the mozzarella cheese. Cover the dish with aluminum foil.',\n",
       "  'Bake in the preheated oven until the casserole is bubbling and the cheese has melted, about 30 minutes. Remove foil and bake until cheese has begun to brown, about 10 more minutes. Allow to stand at least 10 minutes before serving.'],\n",
       " 'nutrition': {'Total Fat': ['19.3g', '30%'],\n",
       "  'Saturated Fat': ['9.0g', ''],\n",
       "  'Cholesterol': ['115mg', '38%'],\n",
       "  'Sodium': ['999mg', '40%'],\n",
       "  'Potassium': ['717mg', '20%'],\n",
       "  'Total Carbohydrates': ['47.1g', '15%'],\n",
       "  'Dietary Fiber': ['6.3g', '25%'],\n",
       "  'Protein': ['35.6g', '71%'],\n",
       "  'Sugars': ['12g', ''],\n",
       "  'Vitamin A': ['855IU', ''],\n",
       "  'Vitamin C': ['2mg', ''],\n",
       "  'Calcium': ['361mg', ''],\n",
       "  'Iron': ['4mg', ''],\n",
       "  'Thiamin': ['0mg', ''],\n",
       "  'Niacin': ['11mg', ''],\n",
       "  'Vitamin B6': ['0mg', ''],\n",
       "  'Magnesium': ['74mg', ''],\n",
       "  'Folate': ['41mcg', '']},\n",
       " 'calories_and_servings': [8, -1, 501]}"
      ]
     },
     "execution_count": 88,
     "metadata": {},
     "output_type": "execute_result"
    }
   ],
   "source": [
    "res"
   ]
  },
  {
   "cell_type": "code",
   "execution_count": 89,
   "metadata": {},
   "outputs": [
    {
     "data": {
      "text/plain": [
       "False"
      ]
     },
     "execution_count": 89,
     "metadata": {},
     "output_type": "execute_result"
    }
   ],
   "source": [
    "recipe"
   ]
  },
  {
   "cell_type": "code",
   "execution_count": 90,
   "metadata": {
    "scrolled": true
   },
   "outputs": [
    {
     "name": "stdout",
     "output_type": "stream",
     "text": [
      "classic and simple meat lasagna\n",
      "ground\n",
      "getting ground veggie directions\n"
     ]
    }
   ],
   "source": [
    "d = change_recipe(res, recipe)"
   ]
  },
  {
   "cell_type": "code",
   "execution_count": 91,
   "metadata": {},
   "outputs": [
    {
     "data": {
      "text/plain": [
       "['Preheat oven to 350 degrees F (175 degrees C).',\n",
       " 'Fill a large pot with lightly salted water and bring to a rolling boil over high heat. Once the water is boiling, add the lasagna noodles a few at a time, and return to a boil. Cook the pasta uncovered, stirring occasionally, until the pasta has cooked through, but is still firm to the bite, about 10 minutes. Remove the noodles to a plate.',\n",
       " 'place the ground tofu into a skillet over medium heat, add the garlic, garlic powder, oregano, salt, and black pepper to the skillet. cook the meat, chopping it into small chunks as it cooks, until no longer pink, about 10 minutes. drain excess grease.',\n",
       " 'In a bowl, mix the cottage cheese, eggs, and Parmesan cheese until thoroughly combined.',\n",
       " 'place 4 noodles side by side into the bottom of a 9x13-inch baking pan; top with a layer of the tomato-basil sauce, a layer of ground tofu mixture, and a layer of the cottage cheese mixture. repeat layers twice more, ending with a layer of sauce; sprinkle top with the mozzarella cheese. cover the dish with aluminum foil.',\n",
       " 'Bake in the preheated oven until the casserole is bubbling and the cheese has melted, about 30 minutes. Remove foil and bake until cheese has begun to brown, about 10 more minutes. Allow to stand at least 10 minutes before serving.']"
      ]
     },
     "execution_count": 91,
     "metadata": {},
     "output_type": "execute_result"
    }
   ],
   "source": [
    "d"
   ]
  },
  {
   "cell_type": "code",
   "execution_count": 59,
   "metadata": {},
   "outputs": [
    {
     "data": {
      "text/plain": [
       "{'name': 'Classic and Simple Meat Lasagna',\n",
       " 'ingredients': ['12 whole wheat lasagna noodles',\n",
       "  '1 pound ground tofu',\n",
       "  '2 cloves garlic, chopped',\n",
       "  '1/2 teaspoon garlic powder',\n",
       "  '1 teaspoon dried oregano, or to taste',\n",
       "  'salt and ground black pepper to taste',\n",
       "  '1 (16 ounce) package cottage cheese',\n",
       "  '2 eggs',\n",
       "  '1/2 cup shredded Parmesan cheese',\n",
       "  '1 1/2 (25 ounce) jars tomato-basil pasta sauce',\n",
       "  '2 cups shredded mozzarella cheese'],\n",
       " 'directions': ['Preheat oven to 350 degrees F (175 degrees C).',\n",
       "  'Fill a large pot with lightly salted water and bring to a rolling boil over high heat. Once the water is boiling, add the lasagna noodles a few at a time, and return to a boil. Cook the pasta uncovered, stirring occasionally, until the pasta has cooked through, but is still firm to the bite, about 10 minutes. Remove the noodles to a plate.',\n",
       "  'place the ground tofu into a skillet over medium heat, add the garlic, garlic powder, oregano, salt, and black pepper to the skillet. cook the meat, chopping it into small chunks as it cooks, until no longer pink, about 10 minutes. drain excess grease.',\n",
       "  'In a bowl, mix the cottage cheese, eggs, and Parmesan cheese until thoroughly combined.',\n",
       "  'place 4 noodles side by side into the bottom of a 9x13-inch baking pan; top with a layer of the tomato-basil sauce, a layer of ground tofu mixture, and a layer of the cottage cheese mixture. repeat layers twice more, ending with a layer of sauce; sprinkle top with the mozzarella cheese. cover the dish with aluminum foil.',\n",
       "  'Bake in the preheated oven until the casserole is bubbling and the cheese has melted, about 30 minutes. Remove foil and bake until cheese has begun to brown, about 10 more minutes. Allow to stand at least 10 minutes before serving.',\n",
       "  'Drizzle pan with olive oil. Stir fry chopped tofu in pan over medium heat until golden brown. Mix tofu with pasta.',\n",
       "  'Drizzle pan with olive oil. Stir fry chopped tofu in pan over medium heat until golden brown.',\n",
       "  'Drizzle pan with olive oil. Stir fry chopped tofu in pan over medium heat until golden brown.',\n",
       "  'Drizzle pan with olive oil. Stir fry chopped tofu in pan over medium heat until golden brown.'],\n",
       " 'nutrition': {'Total Fat': ['19.3g', '30%'],\n",
       "  'Saturated Fat': ['9.0g', ''],\n",
       "  'Cholesterol': ['115mg', '38%'],\n",
       "  'Sodium': ['999mg', '40%'],\n",
       "  'Potassium': ['717mg', '20%'],\n",
       "  'Total Carbohydrates': ['47.1g', '15%'],\n",
       "  'Dietary Fiber': ['6.3g', '25%'],\n",
       "  'Protein': ['35.6g', '71%'],\n",
       "  'Sugars': ['12g', ''],\n",
       "  'Vitamin A': ['855IU', ''],\n",
       "  'Vitamin C': ['2mg', ''],\n",
       "  'Calcium': ['361mg', ''],\n",
       "  'Iron': ['4mg', ''],\n",
       "  'Thiamin': ['0mg', ''],\n",
       "  'Niacin': ['11mg', ''],\n",
       "  'Vitamin B6': ['0mg', ''],\n",
       "  'Magnesium': ['74mg', ''],\n",
       "  'Folate': ['41mcg', '']},\n",
       " 'calories_and_servings': [8, -1, 501]}"
      ]
     },
     "execution_count": 59,
     "metadata": {},
     "output_type": "execute_result"
    }
   ],
   "source": [
    "res"
   ]
  },
  {
   "cell_type": "code",
   "execution_count": 165,
   "metadata": {},
   "outputs": [
    {
     "name": "stdout",
     "output_type": "stream",
     "text": [
      "pasta\n"
     ]
    },
    {
     "data": {
      "text/plain": [
       "['Preheat oven to 350 degrees F (175 degrees C). Prepare asparagus by trimming woody base and cutting diagonally into 4 inch pieces.',\n",
       " 'In a roasting pan, combine asparagus, bell pepper, mushrooms, roasted garlic and tomato. Sprinkle with rosemary and oregano, then drizzle with olive oil. Bake in preheated oven for 15 minutes.',\n",
       " 'Bring a large pot of lightly salted water to a boil. Add pasta and cook for 8 to 10 minutes or until al dente; drain. Toss with Parmesan cheese, tapenade and roasted vegetables.',\n",
       " 'Add olive oil to a pan and chop chicken breast into bite size chunk. Then stir fry the chicken the pan at medium heat for 5 minutes each side.',\n",
       " 'Add olive oil to a pan and chop chicken breast into bite size chunks. Then stir fry the chicken the pan at medium heat for 5 minutes each side.']"
      ]
     },
     "execution_count": 165,
     "metadata": {},
     "output_type": "execute_result"
    }
   ],
   "source": [
    "h = change_directions_to_meat(directions, ingredients, res['name'])\n",
    "h"
   ]
  },
  {
   "cell_type": "code",
   "execution_count": 62,
   "metadata": {},
   "outputs": [
    {
     "data": {
      "text/plain": [
       "{'ingredients': ['1/4 pound fresh asparagus',\n",
       "  '2 red bell pepper, sliced',\n",
       "  '1/4 pound crimini mushrooms, sliced',\n",
       "  '10 cloves roasted garlic, chopped',\n",
       "  '1/2 tomato, quartered',\n",
       "  '1/2 teaspoon chopped fresh rosemary',\n",
       "  '1/2 teaspoon chopped fresh oregano',\n",
       "  '2 tablespoons olive oil',\n",
       "  '8 ounces dry fettuccini noodles',\n",
       "  '1/4 cup grated Parmesan cheese',\n",
       "  '2 tablespoons tapenade',\n",
       "  '1 pound chicken breast'],\n",
       " 'directions': ['Preheat oven to 350 degrees F (175 degrees C). Prepare asparagus by trimming woody base and cutting diagonally into 4 inch pieces.',\n",
       "  'In a roasting pan, combine asparagus, bell pepper, mushrooms, roasted garlic and tomato. Sprinkle with rosemary and oregano, then drizzle with olive oil. Bake in preheated oven for 15 minutes.',\n",
       "  'Bring a large pot of lightly salted water to a boil. Add pasta and cook for 8 to 10 minutes or until al dente; drain. Toss with Parmesan cheese, tapenade and roasted vegetables.'],\n",
       " 'nutrition': {'Total Fat': ['14.6g', '23%'],\n",
       "  'Saturated Fat': ['3.0g', ''],\n",
       "  'Cholesterol': ['6mg', '2%'],\n",
       "  'Sodium': ['213mg', '9%'],\n",
       "  'Potassium': ['486mg', '14%'],\n",
       "  'Total Carbohydrates': ['66.7g', '22%'],\n",
       "  'Dietary Fiber': ['6.2g', '25%'],\n",
       "  'Protein': ['16.8g', '34%'],\n",
       "  'Sugars': ['7g', ''],\n",
       "  'Vitamin A': ['2977IU', ''],\n",
       "  'Vitamin C': ['109mg', ''],\n",
       "  'Calcium': ['126mg', ''],\n",
       "  'Iron': ['4mg', ''],\n",
       "  'Thiamin': ['0mg', ''],\n",
       "  'Niacin': ['7mg', ''],\n",
       "  'Vitamin B6': ['1mg', ''],\n",
       "  'Magnesium': ['57mg', ''],\n",
       "  'Folate': ['208mcg', '']},\n",
       " 'calories_and_servings': [3, -1, 456]}"
      ]
     },
     "execution_count": 62,
     "metadata": {},
     "output_type": "execute_result"
    }
   ],
   "source": [
    "res"
   ]
  }
 ],
 "metadata": {
  "kernelspec": {
   "display_name": "Python 3",
   "language": "python",
   "name": "python3"
  },
  "language_info": {
   "codemirror_mode": {
    "name": "ipython",
    "version": 3
   },
   "file_extension": ".py",
   "mimetype": "text/x-python",
   "name": "python",
   "nbconvert_exporter": "python",
   "pygments_lexer": "ipython3",
   "version": "3.7.4"
  }
 },
 "nbformat": 4,
 "nbformat_minor": 2
}
