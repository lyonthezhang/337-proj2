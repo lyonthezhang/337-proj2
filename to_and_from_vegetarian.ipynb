{
 "cells": [
  {
   "cell_type": "code",
   "execution_count": 1,
   "metadata": {},
   "outputs": [],
   "source": [
    "from bs4 import BeautifulSoup\n",
    "import requests\n",
    "import re\n",
    "import fractions"
   ]
  },
  {
   "cell_type": "code",
   "execution_count": 2,
   "metadata": {},
   "outputs": [],
   "source": [
    "\"\"\"\n",
    "\n",
    "web scraper\n",
    "\n",
    "\"\"\"\n",
    "\n",
    "def get_numbers(lst):\n",
    "    new_list = [int(x.split(':')[1]) if ':' in x else -1 for x in lst]\n",
    "    return new_list\n",
    "\n",
    "class RecipeFetcher:\n",
    "\n",
    "    search_base_url = 'https://www.allrecipes.com/search/results/?wt=%s&sort=re'\n",
    "\n",
    "    def search_recipes(self, keywords): \n",
    "        search_url = self.search_base_url %(keywords.replace(' ','+'))\n",
    "\n",
    "        page_html = requests.get(search_url)\n",
    "        page_graph = BeautifulSoup(page_html.content)\n",
    "\n",
    "        return [recipe.a['href'] for recipe in\\\n",
    "               page_graph.find_all('div', {'class':'grid-card-image-container'})]\n",
    "\n",
    "    def scrape_recipe(self, recipe_url):\n",
    "        results = {}\n",
    "\n",
    "        page_html = requests.get(recipe_url)\n",
    "        print(recipe_url)\n",
    "        page_graph = BeautifulSoup(page_html.content)\n",
    "\n",
    "        results['ingredients'] = [ingredient.text for ingredient in\\\n",
    "                                  page_graph.find_all('span', {'itemprop':'recipeIngredient'})]\n",
    "\n",
    "        results['directions'] = [direction.text.strip() for direction in\\\n",
    "                                 page_graph.find_all('span', {'class':'recipe-directions__list--item'})\n",
    "                                 if direction.text.strip()]\n",
    "\n",
    "        results['nutrition'] = self.scrape_nutrition_facts(recipe_url)\n",
    "        \n",
    "        results['calories_and_servings'] = self.scrape_calories_servings(recipe_url)\n",
    "\n",
    "        return results\n",
    "    \n",
    "    def scrape_nutrition_facts(self, recipe_url):\n",
    "        results = []\n",
    "\n",
    "        nutrition_facts_url = '%s/fullrecipenutrition' %(recipe_url)\n",
    "\n",
    "        page_html = requests.get(nutrition_facts_url)\n",
    "        page_graph = BeautifulSoup(page_html.content)\n",
    "\n",
    "        r = re.compile(\"([0-9]*\\.?[0-9]*)([a-zA-Z]+)\")\n",
    "        \n",
    "        nutrient = {}\n",
    "\n",
    "        for nutrient_row in page_graph.find_all('div', {'class': 'nutrition-row'}):\n",
    "            \n",
    "            lst = nutrient_row.text.split(':')\n",
    "            amount_lst = lst[1]\n",
    "            name = lst[0].replace('\\n', '')\n",
    "            \n",
    "            amount = amount_lst.split('\\n')\n",
    "            amount = [x.replace(' ', '') for x in amount[:2]]\n",
    "            \n",
    "            nutrient[name] = amount\n",
    "            \n",
    "        return nutrient\n",
    "    \n",
    "    def scrape_calories_servings(self, recipe_url):\n",
    "        \"\"\"\n",
    "        returns [servings per recipe, amt per serving, calories]\n",
    "        \"\"\"\n",
    "\n",
    "        nutrition_facts_url = '%s/fullrecipenutrition' %(recipe_url)\n",
    "\n",
    "        page_html = requests.get(nutrition_facts_url)\n",
    "        page_graph = BeautifulSoup(page_html.content)\n",
    "\n",
    "        r = re.compile(\"([0-9]*\\.?[0-9]*)([a-zA-Z]+)\")\n",
    "        \n",
    "        nutrient = {}\n",
    "\n",
    "        for row in page_graph.find_all('div', {'class': 'nutrition-top light-underline'}):\n",
    "            lst = row.text.split('\\n')\n",
    "            lst = list(filter(lambda a: a != '\\r', lst))\n",
    "            \n",
    "            calories = [x.lstrip() for x in lst]\n",
    "            calories.pop()\n",
    "            info = get_numbers(calories)\n",
    "            \n",
    "            return info"
   ]
  },
  {
   "cell_type": "code",
   "execution_count": 57,
   "metadata": {},
   "outputs": [
    {
     "name": "stdout",
     "output_type": "stream",
     "text": [
      "https://www.allrecipes.com/recipe/36996/grilled-rock-lobster-tails/\n"
     ]
    }
   ],
   "source": [
    "rf = RecipeFetcher()\n",
    "fluffy_pancakes = rf.search_recipes('lobster')[0]\n",
    "res = rf.scrape_recipe(fluffy_pancakes)"
   ]
  },
  {
   "cell_type": "code",
   "execution_count": 58,
   "metadata": {},
   "outputs": [
    {
     "data": {
      "text/plain": [
       "['1 tablespoon lemon juice',\n",
       " '1/2 cup olive oil',\n",
       " '1 teaspoon salt',\n",
       " '1 teaspoon paprika',\n",
       " '1/8 teaspoon white pepper',\n",
       " '1/8 teaspoon garlic powder',\n",
       " '2 (10 ounce) rock lobster tails']"
      ]
     },
     "execution_count": 58,
     "metadata": {},
     "output_type": "execute_result"
    }
   ],
   "source": [
    "ingredients = res['ingredients']\n",
    "ingredients"
   ]
  },
  {
   "cell_type": "code",
   "execution_count": 59,
   "metadata": {},
   "outputs": [
    {
     "data": {
      "text/plain": [
       "'\\n- replace ground meat with ground tofu\\n- replace meat with tofu\\n- replace hamburger meat with veggie paddy\\n\\n'"
      ]
     },
     "execution_count": 59,
     "metadata": {},
     "output_type": "execute_result"
    }
   ],
   "source": [
    "\"\"\"\n",
    "- replace ground meat with ground tofu\n",
    "- replace meat with tofu\n",
    "- replace hamburger meat with veggie paddy\n",
    "\n",
    "\"\"\""
   ]
  },
  {
   "cell_type": "code",
   "execution_count": 60,
   "metadata": {},
   "outputs": [],
   "source": [
    "def look_for_meat(ingredients):\n",
    "    ground_meat_lst = ['ground beef', 'ground chicken', 'ground meat', 'ground turkey', 'ground lamb', 'ground pork', 'ground bison']\n",
    "    meat_lst = ['chicken', 'steak', 'beef', 'lamb', 'bacon', 'pork', 'duck', 'bison', 'rabbit', 'cow', 'turkey']\n",
    "    sandwich_meat_lst = ['hamburger', 'cheeseburger', 'sloppy joe']\n",
    "    seafood_lst = ['seafood', 'salmon', 'cod', 'fish', 'halibut', 'shellfish', 'crab', 'lobster', 'shrimp', 'prawn', 'scallop']\n",
    "    \n",
    "    ground = False\n",
    "    meat = False\n",
    "    sandwich = False\n",
    "    seafood = False\n",
    "    \n",
    "    for ingredient in ingredients:\n",
    "        if any(x in ingredient.lower() for x in ground_meat_lst):\n",
    "            ground = True\n",
    "            replace_meat_lst = [ground, meat, sandwich, seafood]\n",
    "            return ingredient, replace_meat_lst\n",
    "        if any(x in ingredient.lower() for x in meat_lst):\n",
    "            meat = True\n",
    "            replace_meat_lst = [ground, meat, sandwich, seafood]\n",
    "            return ingredient, replace_meat_lst\n",
    "        if any(x in ingredient.lower() for x in sandwich_meat_lst):\n",
    "            sandwich = True\n",
    "            replace_meat_lst = [ground, meat, sandwich, seafood]\n",
    "            return ingredient, replace_meat_lst\n",
    "        if any(x in ingredient.lower() for x in seafood_lst):\n",
    "            seafood = True\n",
    "            replace_meat_lst = [ground, meat, sandwich, seafood]\n",
    "            return ingredient, replace_meat_lst"
   ]
  },
  {
   "cell_type": "code",
   "execution_count": 61,
   "metadata": {},
   "outputs": [],
   "source": [
    "p, pp = look_for_meat(ingredients)"
   ]
  },
  {
   "cell_type": "code",
   "execution_count": 62,
   "metadata": {},
   "outputs": [
    {
     "data": {
      "text/plain": [
       "'2 (10 ounce) rock lobster tails'"
      ]
     },
     "execution_count": 62,
     "metadata": {},
     "output_type": "execute_result"
    }
   ],
   "source": [
    "p"
   ]
  },
  {
   "cell_type": "code",
   "execution_count": 63,
   "metadata": {},
   "outputs": [
    {
     "data": {
      "text/plain": [
       "[False, False, False, True]"
      ]
     },
     "execution_count": 63,
     "metadata": {},
     "output_type": "execute_result"
    }
   ],
   "source": [
    "pp"
   ]
  },
  {
   "cell_type": "code",
   "execution_count": 64,
   "metadata": {},
   "outputs": [],
   "source": [
    "def replace_meat(ingredients, meat, type_of_meat_lst):\n",
    "    new_meat = meat.replace(\"(\", \"\")\n",
    "    new_meat = new_meat.replace(\")\", \"\")\n",
    "    new_meat = new_meat.replace(\"/\", \" \")\n",
    "    meat_lst = new_meat.split()\n",
    "    \n",
    "    print(meat_lst)\n",
    "    \n",
    "    original_quantity = []\n",
    "    ingredient_name = ''\n",
    "\n",
    "    # split ingredient into tokens to separate the 'quantity' from 'ingredient_name'\n",
    "    for token in meat_lst:            \n",
    "        if any([str(digit) in token for digit in range(10)]) and not any([char in token for char in ['(', ')']]):\n",
    "            fraction_obj = sum(map(fractions.Fraction, token.split()))\n",
    "            as_float = int(fraction_obj)\n",
    "            original_quantity.append(as_float)\n",
    "        else:\n",
    "            ingredient_name = ingredient_name + ' ' + token\n",
    "\n",
    "    # multiply amount by 'multiplier'\n",
    "    new_quantity = original_quantity\n",
    "    \n",
    "    print(\"new: {}\".format(new_quantity))\n",
    "    \n",
    "    if len(new_quantity) > 1:\n",
    "        num = new_quantity[-1]\n",
    "    else:\n",
    "        num = new_quantity[0]\n",
    "    \n",
    "    print(num)\n",
    "    \n",
    "    \n",
    "    \n",
    "    \n",
    "    \n",
    "    \n",
    "    \n",
    "    \n",
    "    \n",
    "    #quantity = \"\"\n",
    "    \n",
    "    #print(meat_lst)\n",
    "    #print([int(s) for s in meat.split() if s.isdigit()])\n",
    "\n",
    "    # split ingredient into tokens to separate the 'quantity' from 'ingredient_name'\n",
    "    \"\"\"\n",
    "    \n",
    "    for word in meat:            \n",
    "        if any([str(digit) in word for digit in range(10)]) and not any([char in word for char in ['(', ')']]):\n",
    "            print(word)\n",
    "            quantity += word\n",
    "            #break\n",
    "    \"\"\"\n",
    "            \n",
    "    replace_idx = meat_lst.index(str(num)) + 2\n",
    "\n",
    "    # ground meat replacement\n",
    "    if type_of_meat_lst[0]:\n",
    "        replace_term = meat_lst[replace_idx: ]\n",
    "        s = \" \"\n",
    "        term = s.join(replace_term)\n",
    "        veggie = meat.replace(term, \"ground tofu\")\n",
    "        print(veggie)\n",
    "       \n",
    "    # meat replacement\n",
    "    if type_of_meat_lst[1]:\n",
    "        replace_term = meat_lst[replace_idx: ]\n",
    "        s = \" \"\n",
    "        term = s.join(replace_term)\n",
    "        veggie = meat.replace(term, \"tofu\")\n",
    "        print(veggie)\n",
    "        \n",
    "    # sandwich meat replacement\n",
    "    if type_of_meat_lst[2]:\n",
    "        replace_term = meat_lst[replace_idx: ]\n",
    "        s = \" \"\n",
    "        term = s.join(replace_term)\n",
    "        veggie = meat.replace(term, \"impossible burger\")\n",
    "        print(veggie)\n",
    "        \n",
    "    # seafood replacement\n",
    "    if type_of_meat_lst[3]:\n",
    "        replace_term = meat_lst[replace_idx: ]\n",
    "        s = \" \"\n",
    "        term = s.join(replace_term)\n",
    "        veggie = meat.replace(term, \"tofuna fysh\")\n",
    "        print(veggie)"
   ]
  },
  {
   "cell_type": "code",
   "execution_count": 65,
   "metadata": {},
   "outputs": [
    {
     "name": "stdout",
     "output_type": "stream",
     "text": [
      "['2', '10', 'ounce', 'rock', 'lobster', 'tails']\n",
      "new: [2, 10]\n",
      "10\n",
      "2 (10 ounce) tofuna fysh\n"
     ]
    }
   ],
   "source": [
    "replace_meat(ingredients, p, pp)"
   ]
  },
  {
   "cell_type": "code",
   "execution_count": null,
   "metadata": {},
   "outputs": [],
   "source": []
  }
 ],
 "metadata": {
  "kernelspec": {
   "display_name": "Python 3",
   "language": "python",
   "name": "python3"
  },
  "language_info": {
   "codemirror_mode": {
    "name": "ipython",
    "version": 3
   },
   "file_extension": ".py",
   "mimetype": "text/x-python",
   "name": "python",
   "nbconvert_exporter": "python",
   "pygments_lexer": "ipython3",
   "version": "3.7.4"
  }
 },
 "nbformat": 4,
 "nbformat_minor": 2
}
