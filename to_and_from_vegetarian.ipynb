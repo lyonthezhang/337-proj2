{
 "cells": [
  {
   "cell_type": "code",
   "execution_count": 63,
   "metadata": {},
   "outputs": [],
   "source": [
    "from bs4 import BeautifulSoup\n",
    "import requests\n",
    "import re\n",
    "import fractions"
   ]
  },
  {
   "cell_type": "code",
   "execution_count": 2,
   "metadata": {},
   "outputs": [],
   "source": [
    "\"\"\"\n",
    "\n",
    "web scraper\n",
    "\n",
    "\"\"\"\n",
    "\n",
    "def get_numbers(lst):\n",
    "    new_list = [int(x.split(':')[1]) if ':' in x else -1 for x in lst]\n",
    "    return new_list\n",
    "\n",
    "class RecipeFetcher:\n",
    "\n",
    "    search_base_url = 'https://www.allrecipes.com/search/results/?wt=%s&sort=re'\n",
    "\n",
    "    def search_recipes(self, keywords): \n",
    "        search_url = self.search_base_url %(keywords.replace(' ','+'))\n",
    "\n",
    "        page_html = requests.get(search_url)\n",
    "        page_graph = BeautifulSoup(page_html.content)\n",
    "\n",
    "        return [recipe.a['href'] for recipe in\\\n",
    "               page_graph.find_all('div', {'class':'grid-card-image-container'})]\n",
    "\n",
    "    def scrape_recipe(self, recipe_url):\n",
    "        results = {}\n",
    "\n",
    "        page_html = requests.get(recipe_url)\n",
    "        print(recipe_url)\n",
    "        page_graph = BeautifulSoup(page_html.content)\n",
    "\n",
    "        results['ingredients'] = [ingredient.text for ingredient in\\\n",
    "                                  page_graph.find_all('span', {'itemprop':'recipeIngredient'})]\n",
    "\n",
    "        results['directions'] = [direction.text.strip() for direction in\\\n",
    "                                 page_graph.find_all('span', {'class':'recipe-directions__list--item'})\n",
    "                                 if direction.text.strip()]\n",
    "\n",
    "        results['nutrition'] = self.scrape_nutrition_facts(recipe_url)\n",
    "        \n",
    "        results['calories_and_servings'] = self.scrape_calories_servings(recipe_url)\n",
    "\n",
    "        return results\n",
    "    \n",
    "    def scrape_nutrition_facts(self, recipe_url):\n",
    "        results = []\n",
    "\n",
    "        nutrition_facts_url = '%s/fullrecipenutrition' %(recipe_url)\n",
    "\n",
    "        page_html = requests.get(nutrition_facts_url)\n",
    "        page_graph = BeautifulSoup(page_html.content)\n",
    "\n",
    "        r = re.compile(\"([0-9]*\\.?[0-9]*)([a-zA-Z]+)\")\n",
    "        \n",
    "        nutrient = {}\n",
    "\n",
    "        for nutrient_row in page_graph.find_all('div', {'class': 'nutrition-row'}):\n",
    "            \n",
    "            lst = nutrient_row.text.split(':')\n",
    "            amount_lst = lst[1]\n",
    "            name = lst[0].replace('\\n', '')\n",
    "            \n",
    "            amount = amount_lst.split('\\n')\n",
    "            amount = [x.replace(' ', '') for x in amount[:2]]\n",
    "            \n",
    "            nutrient[name] = amount\n",
    "            \n",
    "        return nutrient\n",
    "    \n",
    "    def scrape_calories_servings(self, recipe_url):\n",
    "        \"\"\"\n",
    "        returns [servings per recipe, amt per serving, calories]\n",
    "        \"\"\"\n",
    "\n",
    "        nutrition_facts_url = '%s/fullrecipenutrition' %(recipe_url)\n",
    "\n",
    "        page_html = requests.get(nutrition_facts_url)\n",
    "        page_graph = BeautifulSoup(page_html.content)\n",
    "\n",
    "        r = re.compile(\"([0-9]*\\.?[0-9]*)([a-zA-Z]+)\")\n",
    "        \n",
    "        nutrient = {}\n",
    "\n",
    "        for row in page_graph.find_all('div', {'class': 'nutrition-top light-underline'}):\n",
    "            lst = row.text.split('\\n')\n",
    "            lst = list(filter(lambda a: a != '\\r', lst))\n",
    "            \n",
    "            calories = [x.lstrip() for x in lst]\n",
    "            calories.pop()\n",
    "            info = get_numbers(calories)\n",
    "            \n",
    "            return info"
   ]
  },
  {
   "cell_type": "code",
   "execution_count": 136,
   "metadata": {},
   "outputs": [
    {
     "name": "stdout",
     "output_type": "stream",
     "text": [
      "https://www.allrecipes.com/recipe/218091/classic-and-simple-meat-lasagna/\n"
     ]
    }
   ],
   "source": [
    "rf = RecipeFetcher()\n",
    "fluffy_pancakes = rf.search_recipes('meat lasagna')[0]\n",
    "res = rf.scrape_recipe(fluffy_pancakes)"
   ]
  },
  {
   "cell_type": "code",
   "execution_count": 137,
   "metadata": {},
   "outputs": [
    {
     "data": {
      "text/plain": [
       "['12 whole wheat lasagna noodles',\n",
       " '1 pound lean ground beef',\n",
       " '2 cloves garlic, chopped',\n",
       " '1/2 teaspoon garlic powder',\n",
       " '1 teaspoon dried oregano, or to taste',\n",
       " 'salt and ground black pepper to taste',\n",
       " '1 (16 ounce) package cottage cheese',\n",
       " '2 eggs',\n",
       " '1/2 cup shredded Parmesan cheese',\n",
       " '1 1/2 (25 ounce) jars tomato-basil pasta sauce',\n",
       " '2 cups shredded mozzarella cheese']"
      ]
     },
     "execution_count": 137,
     "metadata": {},
     "output_type": "execute_result"
    }
   ],
   "source": [
    "ingredients = res['ingredients']\n",
    "ingredients"
   ]
  },
  {
   "cell_type": "code",
   "execution_count": 138,
   "metadata": {},
   "outputs": [
    {
     "data": {
      "text/plain": [
       "'\\n- replace ground meat with ground tofu\\n- replace meat with tofu\\n- replace hamburger meat with veggie paddy\\n\\n'"
      ]
     },
     "execution_count": 138,
     "metadata": {},
     "output_type": "execute_result"
    }
   ],
   "source": [
    "\"\"\"\n",
    "- replace ground meat with ground tofu\n",
    "- replace meat with tofu\n",
    "- replace hamburger meat with veggie paddy\n",
    "\n",
    "\"\"\""
   ]
  },
  {
   "cell_type": "code",
   "execution_count": 139,
   "metadata": {},
   "outputs": [],
   "source": [
    "def look_for_meat(ingredients):\n",
    "    ground_meat_lst = ['ground beef', 'ground chicken', 'ground meat', 'ground turkey', 'ground lamb', 'ground pork', 'ground bison']\n",
    "    meat_lst = ['chicken', 'steak', 'beef', 'lamb', 'bacon', 'pork', 'duck', 'bison', 'rabbit', 'cow', 'turkey']\n",
    "    sandwich_meat_lst = ['hamburger', 'cheeseburger', 'sloppy joe']\n",
    "    seafood_lst = ['seafood', 'salmon', 'cod', 'fish', 'halibut', 'shellfish', 'crab', 'lobster', 'shrimp', 'prawn', 'scallop']\n",
    "    \n",
    "    ground = False\n",
    "    meat = False\n",
    "    sandwich = False\n",
    "    seafood = False\n",
    "    \n",
    "    for ingredient in ingredients:\n",
    "        if any(x in ingredient.lower() for x in ground_meat_lst):\n",
    "            ground = True\n",
    "            replace_meat_lst = [ground, meat, sandwich, seafood]\n",
    "            return ingredient, replace_meat_lst\n",
    "        if any(x in ingredient.lower() for x in meat_lst):\n",
    "            meat = True\n",
    "            replace_meat_lst = [ground, meat, sandwich, seafood]\n",
    "            return ingredient, replace_meat_lst\n",
    "        if any(x in ingredient.lower() for x in sandwich_meat_lst):\n",
    "            sandwich = True\n",
    "            replace_meat_lst = [ground, meat, sandwich, seafood]\n",
    "            return ingredient, replace_meat_lst\n",
    "        if any(x in ingredient.lower() for x in seafood_lst):\n",
    "            seafood = True\n",
    "            replace_meat_lst = [ground, meat, sandwich, seafood]\n",
    "            return ingredient, replace_meat_lst"
   ]
  },
  {
   "cell_type": "code",
   "execution_count": 140,
   "metadata": {},
   "outputs": [],
   "source": [
    "p, pp = look_for_meat(ingredients)"
   ]
  },
  {
   "cell_type": "code",
   "execution_count": 141,
   "metadata": {},
   "outputs": [
    {
     "data": {
      "text/plain": [
       "'1 pound lean ground beef'"
      ]
     },
     "execution_count": 141,
     "metadata": {},
     "output_type": "execute_result"
    }
   ],
   "source": [
    "p"
   ]
  },
  {
   "cell_type": "code",
   "execution_count": 142,
   "metadata": {},
   "outputs": [
    {
     "data": {
      "text/plain": [
       "[True, False, False, False]"
      ]
     },
     "execution_count": 142,
     "metadata": {},
     "output_type": "execute_result"
    }
   ],
   "source": [
    "pp"
   ]
  },
  {
   "cell_type": "code",
   "execution_count": 143,
   "metadata": {},
   "outputs": [],
   "source": [
    "def replace_meat(ingredients, meat, type_of_meat_lst):\n",
    "    meat_lst = meat.split()\n",
    "    quantity = \"\"\n",
    "    \n",
    "    print(meat_lst)\n",
    "    print([int(s) for s in meat.split() if s.isdigit()])\n",
    "\n",
    "    # split ingredient into tokens to separate the 'quantity' from 'ingredient_name'\n",
    "    for word in meat:            \n",
    "        if any([str(digit) in word for digit in range(10)]) and not any([char in word for char in ['(', ')']]):\n",
    "            print(word)\n",
    "            quantity += word\n",
    "            #break\n",
    "            \n",
    "    replace_idx = meat_lst.index(quantity) + 2\n",
    "\n",
    "    # ground meat replacement\n",
    "    if type_of_meat_lst[0]:\n",
    "        replace_term = meat_lst[replace_idx: ]\n",
    "        s = \" \"\n",
    "        term = s.join(replace_term)\n",
    "        veggie = meat.replace(term, \"ground tofu\")\n",
    "        print(veggie)\n",
    "       \n",
    "    # meat replacement\n",
    "    if type_of_meat_lst[1]:\n",
    "        replace_term = meat_lst[replace_idx: ]\n",
    "        s = \" \"\n",
    "        term = s.join(replace_term)\n",
    "        veggie = meat.replace(term, \"tofu\")\n",
    "        print(veggie)\n",
    "        \n",
    "    # sandwich meat replacement\n",
    "    if type_of_meat_lst[2]:\n",
    "        replace_term = meat_lst[replace_idx: ]\n",
    "        s = \" \"\n",
    "        term = s.join(replace_term)\n",
    "        veggie = meat.replace(term, \"impossible burger\")\n",
    "        print(veggie)\n",
    "        \n",
    "    # seafood replacement\n",
    "    if type_of_meat_lst[3]:\n",
    "        replace_term = meat_lst[replace_idx: ]\n",
    "        s = \" \"\n",
    "        term = s.join(replace_term)\n",
    "        veggie = meat.replace(term, \"tofuna fysh\")\n",
    "        print(veggie)"
   ]
  },
  {
   "cell_type": "code",
   "execution_count": 144,
   "metadata": {},
   "outputs": [
    {
     "name": "stdout",
     "output_type": "stream",
     "text": [
      "['1', 'pound', 'lean', 'ground', 'beef']\n",
      "[1]\n",
      "1\n",
      "1 pound ground tofu\n"
     ]
    }
   ],
   "source": [
    "replace_meat(ingredients, p, pp)"
   ]
  },
  {
   "cell_type": "code",
   "execution_count": null,
   "metadata": {},
   "outputs": [],
   "source": []
  }
 ],
 "metadata": {
  "kernelspec": {
   "display_name": "Python 3",
   "language": "python",
   "name": "python3"
  },
  "language_info": {
   "codemirror_mode": {
    "name": "ipython",
    "version": 3
   },
   "file_extension": ".py",
   "mimetype": "text/x-python",
   "name": "python",
   "nbconvert_exporter": "python",
   "pygments_lexer": "ipython3",
   "version": "3.7.4"
  }
 },
 "nbformat": 4,
 "nbformat_minor": 2
}
