{
 "cells": [
  {
   "cell_type": "code",
   "execution_count": 158,
   "metadata": {},
   "outputs": [],
   "source": [
    "from bs4 import BeautifulSoup\n",
    "import requests\n",
    "import re\n",
    "import fractions"
   ]
  },
  {
   "cell_type": "code",
   "execution_count": 159,
   "metadata": {},
   "outputs": [],
   "source": [
    "\"\"\"\n",
    "\n",
    "web scraper\n",
    "\n",
    "\"\"\"\n",
    "\n",
    "def get_numbers(lst):\n",
    "    new_list = [int(x.split(':')[1]) if ':' in x else -1 for x in lst]\n",
    "    return new_list\n",
    "\n",
    "class RecipeFetcher:\n",
    "\n",
    "    search_base_url = 'https://www.allrecipes.com/search/results/?wt=%s&sort=re'\n",
    "\n",
    "    def search_recipes(self, keywords): \n",
    "        search_url = self.search_base_url %(keywords.replace(' ','+'))\n",
    "\n",
    "        page_html = requests.get(search_url)\n",
    "        page_graph = BeautifulSoup(page_html.content)\n",
    "\n",
    "        return [recipe.a['href'] for recipe in\\\n",
    "               page_graph.find_all('div', {'class':'grid-card-image-container'})]\n",
    "\n",
    "    def scrape_recipe(self, recipe_url):\n",
    "        results = {}\n",
    "\n",
    "        page_html = requests.get(recipe_url)\n",
    "        print(recipe_url)\n",
    "        page_graph = BeautifulSoup(page_html.content)\n",
    "        \n",
    "        find_name = [name.text for name in\\\n",
    "                          page_graph.find_all('h1', {'id': 'recipe-main-content'}, {'class': 'recipe-summary__h1'})]\n",
    "        results['name'] = find_name[0]\n",
    "\n",
    "        results['ingredients'] = [ingredient.text for ingredient in\\\n",
    "                                  page_graph.find_all('span', {'itemprop':'recipeIngredient'})]\n",
    "\n",
    "        results['directions'] = [direction.text.strip() for direction in\\\n",
    "                                 page_graph.find_all('span', {'class':'recipe-directions__list--item'})\n",
    "                                 if direction.text.strip()]\n",
    "\n",
    "        results['nutrition'] = self.scrape_nutrition_facts(recipe_url)\n",
    "        \n",
    "        results['calories_and_servings'] = self.scrape_calories_servings(recipe_url)\n",
    "\n",
    "        return results\n",
    "    \n",
    "    def scrape_nutrition_facts(self, recipe_url):\n",
    "        results = []\n",
    "\n",
    "        nutrition_facts_url = '%s/fullrecipenutrition' %(recipe_url)\n",
    "\n",
    "        page_html = requests.get(nutrition_facts_url)\n",
    "        page_graph = BeautifulSoup(page_html.content)\n",
    "\n",
    "        r = re.compile(\"([0-9]*\\.?[0-9]*)([a-zA-Z]+)\")\n",
    "        \n",
    "        nutrient = {}\n",
    "\n",
    "        for nutrient_row in page_graph.find_all('div', {'class': 'nutrition-row'}):\n",
    "            \n",
    "            lst = nutrient_row.text.split(':')\n",
    "            amount_lst = lst[1]\n",
    "            name = lst[0].replace('\\n', '')\n",
    "            \n",
    "            amount = amount_lst.split('\\n')\n",
    "            amount = [x.replace(' ', '') for x in amount[:2]]\n",
    "            \n",
    "            nutrient[name] = amount\n",
    "            \n",
    "        return nutrient\n",
    "    \n",
    "    def scrape_calories_servings(self, recipe_url):\n",
    "        \"\"\"\n",
    "        returns [servings per recipe, amt per serving, calories]\n",
    "        \"\"\"\n",
    "\n",
    "        nutrition_facts_url = '%s/fullrecipenutrition' %(recipe_url)\n",
    "\n",
    "        page_html = requests.get(nutrition_facts_url)\n",
    "        page_graph = BeautifulSoup(page_html.content)\n",
    "\n",
    "        r = re.compile(\"([0-9]*\\.?[0-9]*)([a-zA-Z]+)\")\n",
    "        \n",
    "        nutrient = {}\n",
    "\n",
    "        for row in page_graph.find_all('div', {'class': 'nutrition-top light-underline'}):\n",
    "            lst = row.text.split('\\n')\n",
    "            lst = list(filter(lambda a: a != '\\r', lst))\n",
    "            \n",
    "            calories = [x.lstrip() for x in lst]\n",
    "            calories.pop()\n",
    "            info = get_numbers(calories)\n",
    "            \n",
    "            return info"
   ]
  },
  {
   "cell_type": "code",
   "execution_count": 465,
   "metadata": {},
   "outputs": [
    {
     "name": "stdout",
     "output_type": "stream",
     "text": [
      "https://www.allrecipes.com/recipe/13062/cheeseburger-soup-i/\n"
     ]
    }
   ],
   "source": [
    "rf = RecipeFetcher()\n",
    "fluffy_pancakes = rf.search_recipes('cheeseburger')[0]\n",
    "res = rf.scrape_recipe(fluffy_pancakes)"
   ]
  },
  {
   "cell_type": "code",
   "execution_count": 466,
   "metadata": {},
   "outputs": [
    {
     "data": {
      "text/plain": [
       "{'name': 'Cheeseburger Soup I',\n",
       " 'ingredients': ['1/2 pound ground beef',\n",
       "  '3/4 cup chopped onion',\n",
       "  '3/4 cup shredded carrots',\n",
       "  '3/4 cup chopped celery',\n",
       "  '1 teaspoon dried basil',\n",
       "  '1 teaspoon dried parsley',\n",
       "  '4 tablespoons butter',\n",
       "  '3 cups chicken broth',\n",
       "  '4 cups cubed potatoes',\n",
       "  '1/4 cup all-purpose flour',\n",
       "  '2 cups cubed Cheddar cheese',\n",
       "  '1 1/2 cups milk',\n",
       "  '1/4 cup sour cream'],\n",
       " 'directions': ['In a large pot, melt 1 tablespoon butter or margarine over medium heat: cook and stir vegetables and beef , until beef is brown.',\n",
       "  'Stir in basil and parsley. Add broth and potatoes. Bring to a boil, then simmer until potatoes are tender, about 10-12 minutes.',\n",
       "  'Melt the remainder of butter and stir in flour. Add the milk, stirring until smooth.',\n",
       "  'Gradually add milk mixture to the soup, stirring constantly. Bring to a boil and reduce heat to simmer. Stir in cheese. When cheese is melted, add sour cream and heat through. Do not boil.'],\n",
       " 'nutrition': {'Total Fat': ['27.3g', '42%'],\n",
       "  'Saturated Fat': ['15.0g', ''],\n",
       "  'Cholesterol': ['81mg', '27%'],\n",
       "  'Sodium': ['596mg', '24%'],\n",
       "  'Potassium': ['677mg', '19%'],\n",
       "  'Total Carbohydrates': ['22.6g', '7%'],\n",
       "  'Dietary Fiber': ['2.6g', '10%'],\n",
       "  'Protein': ['18.9g', '38%'],\n",
       "  'Sugars': ['5g', ''],\n",
       "  'Vitamin A': ['2439IU', ''],\n",
       "  'Vitamin C': ['18mg', ''],\n",
       "  'Calcium': ['333mg', ''],\n",
       "  'Iron': ['2mg', ''],\n",
       "  'Thiamin': ['0mg', ''],\n",
       "  'Niacin': ['7mg', ''],\n",
       "  'Vitamin B6': ['0mg', ''],\n",
       "  'Magnesium': ['44mg', ''],\n",
       "  'Folate': ['42mcg', '']},\n",
       " 'calories_and_servings': [8, -1, 411]}"
      ]
     },
     "execution_count": 466,
     "metadata": {},
     "output_type": "execute_result"
    }
   ],
   "source": [
    "res"
   ]
  },
  {
   "cell_type": "code",
   "execution_count": 467,
   "metadata": {},
   "outputs": [
    {
     "data": {
      "text/plain": [
       "'Cheeseburger Soup I'"
      ]
     },
     "execution_count": 467,
     "metadata": {},
     "output_type": "execute_result"
    }
   ],
   "source": [
    "res['name']"
   ]
  },
  {
   "cell_type": "code",
   "execution_count": 468,
   "metadata": {},
   "outputs": [
    {
     "data": {
      "text/plain": [
       "['1/2 pound ground beef',\n",
       " '3/4 cup chopped onion',\n",
       " '3/4 cup shredded carrots',\n",
       " '3/4 cup chopped celery',\n",
       " '1 teaspoon dried basil',\n",
       " '1 teaspoon dried parsley',\n",
       " '4 tablespoons butter',\n",
       " '3 cups chicken broth',\n",
       " '4 cups cubed potatoes',\n",
       " '1/4 cup all-purpose flour',\n",
       " '2 cups cubed Cheddar cheese',\n",
       " '1 1/2 cups milk',\n",
       " '1/4 cup sour cream']"
      ]
     },
     "execution_count": 468,
     "metadata": {},
     "output_type": "execute_result"
    }
   ],
   "source": [
    "ingredients = res['ingredients']\n",
    "ingredients"
   ]
  },
  {
   "cell_type": "code",
   "execution_count": 469,
   "metadata": {},
   "outputs": [],
   "source": [
    "def replace_veggie(meat):\n",
    "    new_meat = meat.replace(\"(\", \"\")\n",
    "    new_meat = new_meat.replace(\")\", \"\")\n",
    "    new_meat = new_meat.replace(\"/\", \" \")\n",
    "    meat_lst = new_meat.split()\n",
    "    \n",
    "    original_quantity = []\n",
    "    ingredient_name = ''\n",
    "\n",
    "    # split ingredient into tokens to separate the 'quantity' from 'ingredient_name'\n",
    "    for token in meat_lst:            \n",
    "        if any([str(digit) in token for digit in range(10)]) and not any([char in token for char in ['(', ')']]):\n",
    "            fraction_obj = sum(map(fractions.Fraction, token.split()))\n",
    "            as_float = int(fraction_obj)\n",
    "            original_quantity.append(as_float)\n",
    "        else:\n",
    "            ingredient_name = ingredient_name + ' ' + token\n",
    "       \n",
    "\n",
    "    new_quantity = original_quantity\n",
    "    \n",
    "    if len(new_quantity) > 1:\n",
    "        num = new_quantity[-1]\n",
    "    else:\n",
    "        num = new_quantity[0]\n",
    "      \n",
    "    replace_idx = meat_lst.index(str(num)) + 2\n",
    "    \n",
    "    replace_term = meat_lst[replace_idx: ]\n",
    "    s = \" \"\n",
    "    term = s.join(replace_term)\n",
    "    veggie = meat.replace(term, \"chicken\")\n",
    "    return veggie   "
   ]
  },
  {
   "cell_type": "code",
   "execution_count": 470,
   "metadata": {},
   "outputs": [],
   "source": [
    "def replace_meat(ingredients, meat, type_of_meat_lst, first):\n",
    "    \n",
    "    new_meat = meat.replace(\"(\", \"\")\n",
    "    new_meat = new_meat.replace(\")\", \"\")\n",
    "    new_meat = new_meat.replace(\"/\", \" \")\n",
    "    meat_lst = new_meat.split()\n",
    "    \n",
    "    original_quantity = []\n",
    "    ingredient_name = ''\n",
    "\n",
    "    # split ingredient into tokens to separate the 'quantity' from 'ingredient_name'\n",
    "    for token in meat_lst:            \n",
    "        if any([str(digit) in token for digit in range(10)]) and not any([char in token for char in ['(', ')']]):\n",
    "            fraction_obj = sum(map(fractions.Fraction, token.split()))\n",
    "            as_float = int(fraction_obj)\n",
    "            original_quantity.append(as_float)\n",
    "        else:\n",
    "            ingredient_name = ingredient_name + ' ' + token\n",
    "       \n",
    "\n",
    "    new_quantity = original_quantity\n",
    "    \n",
    "    if len(new_quantity) > 1:\n",
    "        num = new_quantity[-1]\n",
    "    else:\n",
    "        num = new_quantity[0]\n",
    "      \n",
    "    replace_idx = meat_lst.index(str(num)) + 2\n",
    "    \n",
    "    # second meat replacement\n",
    "    if not first:\n",
    "        replace_term = meat_lst[replace_idx: ]\n",
    "        s = \" \"\n",
    "        term = s.join(replace_term)\n",
    "        veggie = meat.replace(term, \"veggie sausage\")\n",
    "        return veggie\n",
    "\n",
    "    # ground meat replacement\n",
    "    if type_of_meat_lst[0]:\n",
    "        replace_term = meat_lst[replace_idx: ]\n",
    "        s = \" \"\n",
    "        term = s.join(replace_term)\n",
    "        veggie = meat.replace(term, \"ground tofu\")\n",
    "        return veggie\n",
    "       \n",
    "    # meat replacement\n",
    "    if type_of_meat_lst[1]:\n",
    "        replace_term = meat_lst[replace_idx: ]\n",
    "        s = \" \"\n",
    "        term = s.join(replace_term)\n",
    "        veggie = meat.replace(term, \"tofu\")\n",
    "        return veggie\n",
    "        \n",
    "    # sandwich meat replacement\n",
    "    if type_of_meat_lst[2]:\n",
    "        replace_term = meat_lst[replace_idx: ]\n",
    "        s = \" \"\n",
    "        term = s.join(replace_term)\n",
    "        veggie = meat.replace(term, \"impossible burger\")\n",
    "        return veggie\n",
    "        \n",
    "    # seafood replacement\n",
    "    if type_of_meat_lst[3]:\n",
    "        replace_term = meat_lst[replace_idx: ]\n",
    "        s = \" \"\n",
    "        term = s.join(replace_term)\n",
    "        veggie = meat.replace(term, \"tofuna fysh\")\n",
    "        return veggie\n",
    "        \n",
    "    # turkey/chicken sandwich meat replacement\n",
    "    if type_of_meat_lst[4] or type_of_meat_lst[5]:\n",
    "        replace_term = meat_lst[replace_idx: ]\n",
    "        s = \" \"\n",
    "        term = s.join(replace_term)\n",
    "        veggie = meat.replace(term, \"tofurkey\")\n",
    "        return veggie"
   ]
  },
  {
   "cell_type": "code",
   "execution_count": 471,
   "metadata": {},
   "outputs": [],
   "source": [
    "def look_for_meat(ingredients, name):\n",
    "    ground_meat_lst = ['ground beef', 'ground chicken', 'ground meat', 'ground turkey', 'ground lamb', 'ground pork', 'ground bison']\n",
    "    meat_lst = ['chicken', 'steak', 'beef', 'lamb', 'bacon', 'pork', 'duck', 'bison', 'rabbit', 'cow', 'sausage', 'turkey']\n",
    "    sandwich_meat_lst = ['hamburger', 'cheeseburger', 'sloppy joe']\n",
    "    turkey_sandwich = ['turkey', 'slice']\n",
    "    chicken_sandwich = ['chicken', 'slice']\n",
    "    seafood_lst = ['salmon', 'cod', 'fish', 'halibut', 'shellfish', 'crab', 'lobster', 'shrimp', 'prawn', 'scallop']\n",
    "    vegetarians_lst = ['tofu', 'tofurkey', 'impossible burger', 'veggie burger']\n",
    "    \n",
    "    ground = False\n",
    "    meat = False\n",
    "    sandwich = False\n",
    "    seafood = False\n",
    "    turkey = False\n",
    "    chicken = False\n",
    "    \n",
    "    vegetarian = True\n",
    "    vegetarian_recipe = True\n",
    "    \n",
    "    first = True\n",
    "\n",
    "    for n, ingredient in enumerate(ingredients):\n",
    "        if any(x in ingredient.lower() for x in vegetarians_lst):\n",
    "            new_ingredient = replace_veggie(ingredient)\n",
    "            ingredients[n] = new_ingredient\n",
    "            vegetarian = False\n",
    "            break\n",
    "            \n",
    "        if 'bread' not in ingredient.lower():\n",
    "            #if any(x in ingredient.lower() for x in turkey_sandwich):\n",
    "            if 'slice' in ingredient.lower() and 'turkey' in ingredient.lower():\n",
    "                turkey = True\n",
    "                replace_meat_lst = [ground, meat, sandwich, seafood, turkey, chicken]\n",
    "                new_ingredient = replace_meat(ingredients, ingredient, replace_meat_lst, first)\n",
    "                ingredients[n] = new_ingredient\n",
    "                first = False\n",
    "                vegetarian = False\n",
    "                vegetarian_recipe = False\n",
    "                continue\n",
    "            #if any(x in ingredient.lower() for x in chicken_sandwich):\n",
    "            if 'slice' in ingredient.lower() and 'chicken' in ingredient.lower():\n",
    "                chicken = True\n",
    "                replace_meat_lst = [ground, meat, sandwich, seafood, turkey, chicken]\n",
    "                new_ingredient = replace_meat(ingredients, ingredient, replace_meat_lst, first)\n",
    "                ingredients[n] = new_ingredient\n",
    "                first = False\n",
    "                vegetarian = False\n",
    "                vegetarian_recipe = False\n",
    "                continue\n",
    "        if any(x in ingredient.lower() for x in ground_meat_lst):\n",
    "            ground = True\n",
    "            replace_meat_lst = [ground, meat, sandwich, seafood, turkey, chicken]\n",
    "            new_ingredient = replace_meat(ingredients, ingredient, replace_meat_lst, first)\n",
    "            ingredients[n] = new_ingredient\n",
    "            first = False\n",
    "            vegetarian = False\n",
    "            vegetarian_recipe = False\n",
    "            continue\n",
    "        if any(x in ingredient.lower() for x in meat_lst):\n",
    "            meat = True\n",
    "            replace_meat_lst = [ground, meat, sandwich, seafood, turkey, chicken]\n",
    "            new_ingredient = replace_meat(ingredients, ingredient, replace_meat_lst, first)\n",
    "            ingredients[n] = new_ingredient\n",
    "            first = False\n",
    "            vegetarian = False\n",
    "            vegetarian_recipe = False\n",
    "            continue\n",
    "        if any(x in ingredient.lower() for x in sandwich_meat_lst):\n",
    "            sandwich = True\n",
    "            replace_meat_lst = [ground, meat, sandwich, seafood, turkey, chicken]\n",
    "            new_ingredient = replace_meat(ingredients, ingredient, replace_meat_lst, first)\n",
    "            ingredients[n] = new_ingredient\n",
    "            first = False\n",
    "            vegetarian = False\n",
    "            vegetarian_recipe = False\n",
    "            continue\n",
    "        if any(x in ingredient.lower() for x in seafood_lst):\n",
    "            seafood = True\n",
    "            replace_meat_lst = [ground, meat, sandwich, seafood, turkey, chicken]\n",
    "            new_ingredient = replace_meat(ingredients, ingredient, replace_meat_lst, first)\n",
    "            ingredients[n] = new_ingredient\n",
    "            first = False\n",
    "            vegetarian = False\n",
    "            vegetarian_recipe = False\n",
    "            continue\n",
    "            \n",
    "    if vegetarian:\n",
    "        category = get_category_recipe(name)\n",
    "        if category is 'pasta':\n",
    "            new_ingredient = '1 pound chicken breast'\n",
    "        elif category is 'ground':\n",
    "            new_ingredient = '1 pound ground beef'\n",
    "        elif category is burger:\n",
    "            new_ingredient = '1 pound ground beef'\n",
    "        else:\n",
    "            new_ingredient = '1 pound chicken breast'\n",
    "        ingredients.append(new_ingredient)\n",
    "              \n",
    "    return ingredients, vegetarian_recipe"
   ]
  },
  {
   "cell_type": "code",
   "execution_count": 472,
   "metadata": {},
   "outputs": [
    {
     "data": {
      "text/plain": [
       "['1/2 pound ground beef',\n",
       " '3/4 cup chopped onion',\n",
       " '3/4 cup shredded carrots',\n",
       " '3/4 cup chopped celery',\n",
       " '1 teaspoon dried basil',\n",
       " '1 teaspoon dried parsley',\n",
       " '4 tablespoons butter',\n",
       " '3 cups chicken broth',\n",
       " '4 cups cubed potatoes',\n",
       " '1/4 cup all-purpose flour',\n",
       " '2 cups cubed Cheddar cheese',\n",
       " '1 1/2 cups milk',\n",
       " '1/4 cup sour cream']"
      ]
     },
     "execution_count": 472,
     "metadata": {},
     "output_type": "execute_result"
    }
   ],
   "source": [
    "ingredients"
   ]
  },
  {
   "cell_type": "code",
   "execution_count": 473,
   "metadata": {},
   "outputs": [
    {
     "data": {
      "text/plain": [
       "['1/2 pound ground tofu',\n",
       " '3/4 cup chopped onion',\n",
       " '3/4 cup shredded carrots',\n",
       " '3/4 cup chopped celery',\n",
       " '1 teaspoon dried basil',\n",
       " '1 teaspoon dried parsley',\n",
       " '4 tablespoons butter',\n",
       " '3 cups veggie sausage',\n",
       " '4 cups cubed potatoes',\n",
       " '1/4 cup all-purpose flour',\n",
       " '2 cups cubed Cheddar cheese',\n",
       " '1 1/2 cups milk',\n",
       " '1/4 cup sour cream']"
      ]
     },
     "execution_count": 473,
     "metadata": {},
     "output_type": "execute_result"
    }
   ],
   "source": [
    "p, recipe = look_for_meat(ingredients, res['name'])\n",
    "p"
   ]
  },
  {
   "cell_type": "code",
   "execution_count": 474,
   "metadata": {},
   "outputs": [
    {
     "data": {
      "text/plain": [
       "False"
      ]
     },
     "execution_count": 474,
     "metadata": {},
     "output_type": "execute_result"
    }
   ],
   "source": [
    "recipe"
   ]
  },
  {
   "cell_type": "code",
   "execution_count": 475,
   "metadata": {},
   "outputs": [],
   "source": [
    "def change_recipe(res, change_to_meat):\n",
    "    directions = res['directions']\n",
    "    ingredients = res['ingredients']\n",
    "    name = res['name']\n",
    "    if change_to_meat:\n",
    "        new_directions = change_directions_to_meat(directions, ingredients, name)\n",
    "    else:\n",
    "        new_directions = change_directions_to_veggie(directions, ingredients, name)\n",
    "    return new_directions"
   ]
  },
  {
   "cell_type": "code",
   "execution_count": 476,
   "metadata": {},
   "outputs": [
    {
     "data": {
      "text/plain": [
       "['In a large pot, melt 1 tablespoon butter or margarine over medium heat: cook and stir vegetables and beef , until beef is brown.',\n",
       " 'Stir in basil and parsley. Add broth and potatoes. Bring to a boil, then simmer until potatoes are tender, about 10-12 minutes.',\n",
       " 'Melt the remainder of butter and stir in flour. Add the milk, stirring until smooth.',\n",
       " 'Gradually add milk mixture to the soup, stirring constantly. Bring to a boil and reduce heat to simmer. Stir in cheese. When cheese is melted, add sour cream and heat through. Do not boil.']"
      ]
     },
     "execution_count": 476,
     "metadata": {},
     "output_type": "execute_result"
    }
   ],
   "source": [
    "directions = res['directions']\n",
    "ingredients = res['ingredients']\n",
    "directions"
   ]
  },
  {
   "cell_type": "code",
   "execution_count": 477,
   "metadata": {},
   "outputs": [
    {
     "data": {
      "text/plain": [
       "['1/2 pound ground tofu',\n",
       " '3/4 cup chopped onion',\n",
       " '3/4 cup shredded carrots',\n",
       " '3/4 cup chopped celery',\n",
       " '1 teaspoon dried basil',\n",
       " '1 teaspoon dried parsley',\n",
       " '4 tablespoons butter',\n",
       " '3 cups veggie sausage',\n",
       " '4 cups cubed potatoes',\n",
       " '1/4 cup all-purpose flour',\n",
       " '2 cups cubed Cheddar cheese',\n",
       " '1 1/2 cups milk',\n",
       " '1/4 cup sour cream']"
      ]
     },
     "execution_count": 477,
     "metadata": {},
     "output_type": "execute_result"
    }
   ],
   "source": [
    "ingredients"
   ]
  },
  {
   "cell_type": "code",
   "execution_count": 478,
   "metadata": {},
   "outputs": [],
   "source": [
    "def get_veggie_burger(directions, ingredients):\n",
    "    add_meat = True\n",
    "    burger = ['pattie', 'burger', 'patti', 'hamburger', 'cheeseburger']\n",
    "    new_dir = \"Grill each side of veggie pattie for 5 minutes on grill.\"\n",
    "    \n",
    "    for n, step in enumerate(directions):\n",
    "        words = step.lower().split()\n",
    "        if any(burger) in words:\n",
    "            if 'meat' in new_dir.lower().split():\n",
    "                directions[n] = replace_direction(new_dir, 'meat', 'pattie')\n",
    "            else:\n",
    "                directions[n] = new_dir\n",
    "        w = step.replace(\",\", \"\")\n",
    "        if 'meat' in w:\n",
    "            directions[n] = replace_direction(w.lower(), 'meat', 'pattie')\n",
    "            \n",
    "    if add_meat:\n",
    "        directions.append(new_dir)\n",
    "        \n",
    "    return directions"
   ]
  },
  {
   "cell_type": "code",
   "execution_count": 479,
   "metadata": {},
   "outputs": [],
   "source": [
    "def get_veggie_pasta(directions, ingredients):\n",
    "    add_meat = True\n",
    "    meat_lst = ['chicken', 'steak', 'beef', 'lamb', 'bacon', 'pork', 'duck', 'bison', 'rabbit', 'cow', 'sausage', 'turkey']\n",
    "    new_dir = \"Drizzle pan with olive oil. Stir fry chopped tofu in pan over medium heat until golden brown. Mix tofu with pasta.\"\n",
    "    \n",
    "    for n, step in enumerate(directions):\n",
    "        words = step.lower().split()\n",
    "        w = step.replace(\",\", \"\")\n",
    "        if 'meat' in w:\n",
    "            directions[n] = replace_direction(w.lower(), 'meat', 'tofu')\n",
    "            \n",
    "        #if any(meat_lst) in words:\n",
    "        if any(word in words for word in meat_lst):\n",
    "            print(\"meaty\")\n",
    "            directions[n] = new_dir\n",
    "            add_meat = False\n",
    "        \n",
    "            \n",
    "    if add_meat:\n",
    "        directions.append(new_dir)\n",
    "        \n",
    "    return directions"
   ]
  },
  {
   "cell_type": "code",
   "execution_count": 480,
   "metadata": {},
   "outputs": [],
   "source": [
    "def get_veggie_rice(directions, ingredients):\n",
    "    add_meat = True\n",
    "    meat_lst = ['chicken', 'steak', 'beef', 'lamb', 'bacon', 'pork', 'duck', 'bison', 'rabbit', 'cow', 'sausage', 'turkey']\n",
    "    new_dir = \"Drizzle pan with olive oil. Stir fry chopped tofu in pan over medium heat until golden brown. Mix tofu with rice.\"\n",
    "    \n",
    "    for n, step in enumerate(directions):\n",
    "        words = step.lower().split()\n",
    "        if any(word in words for word in meat_lst):\n",
    "            directions[n] = new_dir\n",
    "            add_meat = False\n",
    "        w = step.replace(\",\", \"\")\n",
    "        if 'meat' in w:\n",
    "            directions[n] = replace_direction(w.lower(), 'meat', 'tofu')\n",
    "            \n",
    "    if add_meat:\n",
    "        directions.append(new_dir)\n",
    "        \n",
    "    return directions"
   ]
  },
  {
   "cell_type": "code",
   "execution_count": 481,
   "metadata": {},
   "outputs": [],
   "source": [
    "def get_veggie_main(directions, ingredients):\n",
    "    add_meat = True\n",
    "    meat_lst = ['chicken', 'steak', 'beef', 'lamb', 'bacon', 'pork', 'duck', 'bison', 'rabbit', 'cow', 'sausage', 'turkey']\n",
    "    new_dir = \"Drizzle pan with olive oil. Stir fry chopped tofu in pan over medium heat until golden brown.\"\n",
    "    \n",
    "    for n, step in enumerate(directions):\n",
    "        words = step.lower().split()\n",
    "        if any(meat_lst) in words:\n",
    "            directions[n] = new_dir\n",
    "            add_meat = False\n",
    "        w = step.lower().replace(\",\", \"\")\n",
    "        if 'meat' in w:\n",
    "            directions[n] = replace_direction(w, 'meat', 'tofu')\n",
    "            \n",
    "    if add_meat:\n",
    "        directions.append(new_dir)\n",
    "        \n",
    "    return directions"
   ]
  },
  {
   "cell_type": "code",
   "execution_count": 482,
   "metadata": {},
   "outputs": [],
   "source": [
    "def replace_veggie_direction(direction, old_word, new_word):\n",
    "    words = direction.lower().split()\n",
    "    \n",
    "    idx = words.index(old_word)\n",
    "    replace_this = words[idx+1]\n",
    "    \n",
    "    lower_dir = direction.lower()\n",
    "    new_direction = lower_dir.replace(replace_this, new_word)\n",
    "    \n",
    "    return new_direction"
   ]
  },
  {
   "cell_type": "code",
   "execution_count": 483,
   "metadata": {},
   "outputs": [],
   "source": [
    "def get_veggie_ground(directions, ingredients):\n",
    "    print(\"getting ground veggie directions\")\n",
    "    for n, step in enumerate(directions):\n",
    "        words = step.lower().split()\n",
    "        if 'ground' in words:\n",
    "            new_dir = replace_veggie_direction(step, 'ground', 'tofu')\n",
    "            d = new_dir.replace(\",\", \"\")\n",
    "            if 'meat' in d.lower().split():\n",
    "                directions[n] = replace_direction(new_dir, 'meat', 'ground tofu')\n",
    "            else:\n",
    "                directions[n] = new_dir\n",
    "        if 'meat' in words:\n",
    "            directions[n] = replace_direction(step, 'meat', 'ground tofu')\n",
    "    return directions"
   ]
  },
  {
   "cell_type": "code",
   "execution_count": 484,
   "metadata": {},
   "outputs": [],
   "source": [
    "def get_veggie_soup(directions, ingredients):\n",
    "    add_meat = True\n",
    "    meat_lst = ['chicken', 'steak', 'beef', 'lamb', 'bacon', 'pork', 'duck', 'bison', 'rabbit', 'cow', 'sausage', 'turkey']\n",
    "    new_dir = \"Drizzle pan with olive oil. Stir fry chopped tofu in pan over medium heat until golden brown. Mix tofu with broth.\"\n",
    "    \n",
    "    for n, step in enumerate(directions):\n",
    "        step = step.replace(\",\", \"\")\n",
    "        words = step.lower().split()\n",
    "        if any(word in words for word in meat_lst):\n",
    "            directions[n] = new_dir\n",
    "            add_meat = False\n",
    "        if 'meat' in step:\n",
    "            step = replace_direction(step.lower(), 'meat', 'tofu')\n",
    "            directions[n] = step\n",
    "        if 'beef' in step:\n",
    "            step = replace_direction(step.lower(), 'beef', 'tofu')\n",
    "            directions[n] = step\n",
    "        if 'chicken' in step:\n",
    "            step = replace_direction(step.lower(), 'chicken', 'tofu')\n",
    "            directions[n] = step\n",
    "        if 'lamb' in step:\n",
    "            step = replace_direction(step.lower(), 'lamb', 'tofu')\n",
    "            directions[n] = step\n",
    "        if 'sausage' in step:\n",
    "            step = replace_direction(step.lower(), 'sausage', 'tofu')\n",
    "            directions[n] = step\n",
    "        if 'bison' in step:\n",
    "            step = replace_direction(step.lower(), 'bison', 'tofu')\n",
    "            directions[n] = step\n",
    "        if 'steak' in step:\n",
    "            step = replace_direction(step.lower(), 'steak', 'tofu')\n",
    "            directions[n] = step\n",
    "        if 'duck' in step:\n",
    "            step = replace_direction(step.lower(), 'duck', 'tofu')\n",
    "            directions[n] = step\n",
    "            \n",
    "    if add_meat:\n",
    "        directions.append(new_dir)\n",
    "        \n",
    "    return directions"
   ]
  },
  {
   "cell_type": "code",
   "execution_count": 485,
   "metadata": {},
   "outputs": [],
   "source": [
    "def change_directions_to_veggie(directions, ingredients, name):\n",
    "    food_category = get_category_recipe(name)\n",
    "    print(food_category)\n",
    "    \n",
    "    if food_category is 'pasta':\n",
    "        new_directions = get_veggie_pasta(directions, ingredients)\n",
    "        return new_directions\n",
    "    elif food_category is 'soup':\n",
    "        new_directions = get_veggie_soup(directions, ingredients)\n",
    "        return new_directions\n",
    "    elif food_category is 'burger':\n",
    "        new_directions = get_veggie_burger(directions, ingredients)\n",
    "        return new_directions\n",
    "    elif food_category is 'main protein':\n",
    "        new_directions = get_veggie_main(directions, ingredients)\n",
    "        return new_directions\n",
    "    elif food_category is 'ground':\n",
    "        new_directions = get_veggie_ground(directions, ingredients)\n",
    "        return new_directions\n",
    "    elif food_category is 'rice':\n",
    "        new_directions = get_veggie_rice(directions, ingredients)\n",
    "        return new_directions\n",
    "    else:\n",
    "        new_directions = get_veggie_main(directions, ingredients)\n",
    "        return new_directions"
   ]
  },
  {
   "cell_type": "code",
   "execution_count": 486,
   "metadata": {},
   "outputs": [],
   "source": [
    "def replace_direction(direction, old_word, new_word):\n",
    "    words = direction.lower()\n",
    "    print(\"replacing: {} ... {} ... {}\".format(direction, old_word, new_word))\n",
    "    new_direction = words.replace(old_word, new_word)\n",
    "    return new_direction"
   ]
  },
  {
   "cell_type": "code",
   "execution_count": 487,
   "metadata": {},
   "outputs": [],
   "source": [
    "def get_meat_burger(directions, ingredients):\n",
    "    add_meat = True\n",
    "    burger = ['impossible', 'burger']\n",
    "    \n",
    "    for n, step in enumerate(directions):\n",
    "        if 'impossible' in step.lower().split():\n",
    "            directions[n] = \"Form pattie shapes with hamburger meat. Grill each side of pattie for 5 minutes at medium heat.\"\n",
    "            add_meat = False\n",
    "        elif 'veggie' in step.lower().split():\n",
    "            directions[n] = \"Form pattie shapes with hamburger meat. Grill each side of pattie for 5 minutes at medium heat.\"\n",
    "            add_meat = False\n",
    "        elif 'patti' in step.lower().split():\n",
    "            directions[n] = \"Form pattie shapes with hamburger meat. Grill each side of pattie for 5 minutes at medium heat.\"\n",
    "            add_meat = False   \n",
    "            \n",
    "    if add_meat:\n",
    "        new_dir = \"Form pattie shapes with hamburger meat. Grill each side of pattie for 5 minutes at medium heat.\"\n",
    "        directions.append(new_dir)\n",
    "        \n",
    "    return directions"
   ]
  },
  {
   "cell_type": "code",
   "execution_count": 488,
   "metadata": {},
   "outputs": [],
   "source": [
    "def get_meat_pasta(directions, ingredients):\n",
    "    add_meat = True\n",
    "    burger = ['impossible', 'burger']\n",
    "    \n",
    "    for n, step in enumerate(directions):\n",
    "        if 'tofurkey' in step.lower().split():\n",
    "            directions[n] = replace_direction(step, 'tofurkey', 'chicken')\n",
    "            add_meat = False\n",
    "        if 'tofu' in step.lower().split():\n",
    "            directions[n] = replace_direction(step, 'tofu', 'chicken')\n",
    "            add_meat = False\n",
    "        if 'seitan' in step.lower().split():\n",
    "            directions[n] = replace_direction(step, 'seitan', 'chicken')\n",
    "            add_meat = False   \n",
    "        if all(burger) in step.lower().split():\n",
    "            directions[n] = replace_direction(step, 'burger', 'chicken')\n",
    "            add_meat = False\n",
    "            \n",
    "    if add_meat:\n",
    "        new_dir = \"Add olive oil to a pan and chop chicken breast into bite size chunks. Then stir fry the chicken the pan at medium heat for 5 minutes each side. Mix chicken with pasta.\"\n",
    "        directions.append(new_dir)\n",
    "        \n",
    "    return directions"
   ]
  },
  {
   "cell_type": "code",
   "execution_count": 489,
   "metadata": {},
   "outputs": [],
   "source": [
    "def get_meat_main(directions, ingredients):\n",
    "    add_meat = True\n",
    "    \n",
    "    for n, step in enumerate(directions):\n",
    "        if 'tofurkey' in step.lower().split():\n",
    "            directions[n] = replace_direction(step, 'tofurkey', 'chicken')\n",
    "            add_meat = False\n",
    "        if 'tofu' in step.lower().split():\n",
    "            directions[n] = replace_direction(step, 'tofu', 'chicken')\n",
    "            add_meat = False\n",
    "        if 'seitan' in step.lower().split():\n",
    "            directions[n] = replace_direction(step, 'seitan', 'chicken')\n",
    "            add_meat = False   \n",
    "            \n",
    "    if add_meat:\n",
    "        new_dir = \"Make sure oven is at 400 degrees Farenheit. Place turkey breast on tinfoil and put in oven for 45 minutes.\"\n",
    "        directions.append(new_dir)\n",
    "        \n",
    "    return directions"
   ]
  },
  {
   "cell_type": "code",
   "execution_count": 490,
   "metadata": {},
   "outputs": [],
   "source": [
    "def get_meat_rice(directions, ingredients):\n",
    "    add_meat = True\n",
    "    burger = ['impossible', 'burger']\n",
    "    \n",
    "    for n, step in enumerate(directions):\n",
    "        if 'tofurkey' in step.lower().split():\n",
    "            directions[n] = replace_direction(step, 'tofurkey', 'chicken')\n",
    "            add_meat = False\n",
    "        if 'tofu' in step.lower().split():\n",
    "            directions[n] = replace_direction(step, 'tofu', 'chicken')\n",
    "            add_meat = False\n",
    "        if 'seitan' in step.lower().split():\n",
    "            directions[n] = replace_direction(step, 'seitan', 'chicken')\n",
    "            add_meat = False   \n",
    "        if all(burger) in step.lower().split():\n",
    "            directions[n] = replace_direction(step, 'burger', 'chicken')\n",
    "            add_meat = False\n",
    "            \n",
    "    if add_meat:\n",
    "        new_dir = \"Add olive oil to a pan and chop chicken breast into bite size chunks. Then stir fry the chicken the pan at medium heat for 5 minutes each side. Mix chicken with rice.\"\n",
    "        directions.append(new_dir)\n",
    "        \n",
    "    return directions"
   ]
  },
  {
   "cell_type": "code",
   "execution_count": 491,
   "metadata": {},
   "outputs": [],
   "source": [
    "def get_meat_ground(directions, ingredients):\n",
    "    add_meat = True\n",
    "    burger = ['impossible', 'burger']\n",
    "    \n",
    "    for n, step in enumerate(directions):\n",
    "        if 'tofurkey' in step.lower().split():\n",
    "            directions[n] = replace_direction(step, 'tofurkey', 'ground chicken')\n",
    "            add_meat = False\n",
    "        if 'tofu' in step.lower().split():\n",
    "            directions[n] = replace_direction(step, 'tofu', 'ground chicken')\n",
    "            add_meat = False\n",
    "        if 'seitan' in step.lower().split():\n",
    "            directions[n] = replace_direction(step, 'seitan', 'ground chicken')\n",
    "            add_meat = False   \n",
    "        if all(burger) in step.lower().split():\n",
    "            directions[n] = replace_direction(step, 'burger', 'ground chicken')\n",
    "            add_meat = False\n",
    "            \n",
    "    if add_meat:\n",
    "        new_dir = \"Grind chicken and mix with rest of ingredients.\"\n",
    "        directions.append(new_dir)\n",
    "        \n",
    "    return directions"
   ]
  },
  {
   "cell_type": "code",
   "execution_count": 492,
   "metadata": {},
   "outputs": [],
   "source": [
    "def change_directions_to_meat(directions, ingredients, name):\n",
    "    food_category = get_category_recipe(name.lower())\n",
    "    print(food_category)\n",
    "    \n",
    "    if food_category is 'pasta':\n",
    "        new_directions = get_meat_pasta(directions, ingredients)\n",
    "        return new_directions\n",
    "    elif food_category is 'soup':\n",
    "        new_directions = get_meat_soup(directions, ingredients)\n",
    "        return new_directions\n",
    "    elif food_category is 'burger':\n",
    "        new_directions = get_meat_burger(directions, ingredients)\n",
    "        return new_directions\n",
    "    elif food_category is 'main protein':\n",
    "        new_directions = get_meat_main(directions, ingredients)\n",
    "        return new_directions\n",
    "    elif food_category is 'ground':\n",
    "        new_directions = get_meat_ground(directions, ingredients)\n",
    "        return new_directions\n",
    "    elif food_category is 'rice':\n",
    "        new_directions = get_meat_rice(directions, ingredients)\n",
    "        return new_directions\n",
    "    else:\n",
    "        new_directions = get_meat_main(directions, ingredients)\n",
    "        return new_directions"
   ]
  },
  {
   "cell_type": "code",
   "execution_count": 493,
   "metadata": {},
   "outputs": [],
   "source": [
    "def get_category_recipe(recipe_name):\n",
    "    name = recipe_name.lower()\n",
    "    pasta_lst = ['pasta', 'noodle', 'mein', 'pad thai']\n",
    "    main_lst = ['roasted', 'fried', 'baked']\n",
    "\n",
    "    print(name.split())\n",
    "    \n",
    "    if any(word in name.split() for word in pasta_lst):\n",
    "        return 'pasta'\n",
    "    elif 'soup' in name:\n",
    "        return 'soup'\n",
    "    elif 'burger' in name:\n",
    "        return 'burger'\n",
    "    elif any(word in name.split() for word in main_lst):\n",
    "        return 'main protein'\n",
    "    elif 'ground' in name:\n",
    "        return 'ground'\n",
    "    elif 'lasagna' in name:\n",
    "        return 'ground'\n",
    "    elif 'rice' in name:\n",
    "        return 'rice'\n",
    "    return 'main protein'"
   ]
  },
  {
   "cell_type": "code",
   "execution_count": 494,
   "metadata": {},
   "outputs": [
    {
     "data": {
      "text/plain": [
       "{'name': 'Cheeseburger Soup I',\n",
       " 'ingredients': ['1/2 pound ground tofu',\n",
       "  '3/4 cup chopped onion',\n",
       "  '3/4 cup shredded carrots',\n",
       "  '3/4 cup chopped celery',\n",
       "  '1 teaspoon dried basil',\n",
       "  '1 teaspoon dried parsley',\n",
       "  '4 tablespoons butter',\n",
       "  '3 cups veggie sausage',\n",
       "  '4 cups cubed potatoes',\n",
       "  '1/4 cup all-purpose flour',\n",
       "  '2 cups cubed Cheddar cheese',\n",
       "  '1 1/2 cups milk',\n",
       "  '1/4 cup sour cream'],\n",
       " 'directions': ['In a large pot, melt 1 tablespoon butter or margarine over medium heat: cook and stir vegetables and beef , until beef is brown.',\n",
       "  'Stir in basil and parsley. Add broth and potatoes. Bring to a boil, then simmer until potatoes are tender, about 10-12 minutes.',\n",
       "  'Melt the remainder of butter and stir in flour. Add the milk, stirring until smooth.',\n",
       "  'Gradually add milk mixture to the soup, stirring constantly. Bring to a boil and reduce heat to simmer. Stir in cheese. When cheese is melted, add sour cream and heat through. Do not boil.'],\n",
       " 'nutrition': {'Total Fat': ['27.3g', '42%'],\n",
       "  'Saturated Fat': ['15.0g', ''],\n",
       "  'Cholesterol': ['81mg', '27%'],\n",
       "  'Sodium': ['596mg', '24%'],\n",
       "  'Potassium': ['677mg', '19%'],\n",
       "  'Total Carbohydrates': ['22.6g', '7%'],\n",
       "  'Dietary Fiber': ['2.6g', '10%'],\n",
       "  'Protein': ['18.9g', '38%'],\n",
       "  'Sugars': ['5g', ''],\n",
       "  'Vitamin A': ['2439IU', ''],\n",
       "  'Vitamin C': ['18mg', ''],\n",
       "  'Calcium': ['333mg', ''],\n",
       "  'Iron': ['2mg', ''],\n",
       "  'Thiamin': ['0mg', ''],\n",
       "  'Niacin': ['7mg', ''],\n",
       "  'Vitamin B6': ['0mg', ''],\n",
       "  'Magnesium': ['44mg', ''],\n",
       "  'Folate': ['42mcg', '']},\n",
       " 'calories_and_servings': [8, -1, 411]}"
      ]
     },
     "execution_count": 494,
     "metadata": {},
     "output_type": "execute_result"
    }
   ],
   "source": [
    "res"
   ]
  },
  {
   "cell_type": "code",
   "execution_count": 495,
   "metadata": {},
   "outputs": [
    {
     "data": {
      "text/plain": [
       "False"
      ]
     },
     "execution_count": 495,
     "metadata": {},
     "output_type": "execute_result"
    }
   ],
   "source": [
    "recipe"
   ]
  },
  {
   "cell_type": "code",
   "execution_count": 496,
   "metadata": {
    "scrolled": true
   },
   "outputs": [
    {
     "name": "stdout",
     "output_type": "stream",
     "text": [
      "['cheeseburger', 'soup', 'i']\n",
      "soup\n",
      "replacing: in a large pot melt 1 tablespoon butter or margarine over medium heat: cook and stir vegetables and beef  until beef is brown. ... beef ... tofu\n"
     ]
    }
   ],
   "source": [
    "d = change_recipe(res, recipe)"
   ]
  },
  {
   "cell_type": "code",
   "execution_count": 497,
   "metadata": {},
   "outputs": [
    {
     "data": {
      "text/plain": [
       "['in a large pot melt 1 tablespoon butter or margarine over medium heat: cook and stir vegetables and tofu  until tofu is brown.',\n",
       " 'Stir in basil and parsley. Add broth and potatoes. Bring to a boil, then simmer until potatoes are tender, about 10-12 minutes.',\n",
       " 'Melt the remainder of butter and stir in flour. Add the milk, stirring until smooth.',\n",
       " 'Gradually add milk mixture to the soup, stirring constantly. Bring to a boil and reduce heat to simmer. Stir in cheese. When cheese is melted, add sour cream and heat through. Do not boil.']"
      ]
     },
     "execution_count": 497,
     "metadata": {},
     "output_type": "execute_result"
    }
   ],
   "source": [
    "d"
   ]
  },
  {
   "cell_type": "code",
   "execution_count": 312,
   "metadata": {},
   "outputs": [
    {
     "data": {
      "text/plain": [
       "{'name': 'Roasted Veggie Pasta',\n",
       " 'ingredients': ['1/4 pound fresh asparagus',\n",
       "  '2 red bell pepper, sliced',\n",
       "  '1/4 pound crimini mushrooms, sliced',\n",
       "  '10 cloves roasted garlic, chopped',\n",
       "  '1/2 tomato, quartered',\n",
       "  '1/2 teaspoon chopped fresh rosemary',\n",
       "  '1/2 teaspoon chopped fresh oregano',\n",
       "  '2 tablespoons olive oil',\n",
       "  '8 ounces dry fettuccini noodles',\n",
       "  '1/4 cup grated Parmesan cheese',\n",
       "  '2 tablespoons tapenade',\n",
       "  '1 pound chicken breast'],\n",
       " 'directions': ['Preheat oven to 350 degrees F (175 degrees C). Prepare asparagus by trimming woody base and cutting diagonally into 4 inch pieces.',\n",
       "  'In a roasting pan, combine asparagus, bell pepper, mushrooms, roasted garlic and tomato. Sprinkle with rosemary and oregano, then drizzle with olive oil. Bake in preheated oven for 15 minutes.',\n",
       "  'Bring a large pot of lightly salted water to a boil. Add pasta and cook for 8 to 10 minutes or until al dente; drain. Toss with Parmesan cheese, tapenade and roasted vegetables.',\n",
       "  'Add olive oil to a pan and chop chicken breast into bite size chunks. Then stir fry the chicken the pan at medium heat for 5 minutes each side. Mix chicken with pasta.'],\n",
       " 'nutrition': {'Total Fat': ['14.6g', '23%'],\n",
       "  'Saturated Fat': ['3.0g', ''],\n",
       "  'Cholesterol': ['6mg', '2%'],\n",
       "  'Sodium': ['213mg', '9%'],\n",
       "  'Potassium': ['486mg', '14%'],\n",
       "  'Total Carbohydrates': ['66.7g', '22%'],\n",
       "  'Dietary Fiber': ['6.2g', '25%'],\n",
       "  'Protein': ['16.8g', '34%'],\n",
       "  'Sugars': ['7g', ''],\n",
       "  'Vitamin A': ['2977IU', ''],\n",
       "  'Vitamin C': ['109mg', ''],\n",
       "  'Calcium': ['126mg', ''],\n",
       "  'Iron': ['4mg', ''],\n",
       "  'Thiamin': ['0mg', ''],\n",
       "  'Niacin': ['7mg', ''],\n",
       "  'Vitamin B6': ['1mg', ''],\n",
       "  'Magnesium': ['57mg', ''],\n",
       "  'Folate': ['208mcg', '']},\n",
       " 'calories_and_servings': [3, -1, 456]}"
      ]
     },
     "execution_count": 312,
     "metadata": {},
     "output_type": "execute_result"
    }
   ],
   "source": [
    "res"
   ]
  },
  {
   "cell_type": "code",
   "execution_count": 165,
   "metadata": {},
   "outputs": [
    {
     "name": "stdout",
     "output_type": "stream",
     "text": [
      "pasta\n"
     ]
    },
    {
     "data": {
      "text/plain": [
       "['Preheat oven to 350 degrees F (175 degrees C). Prepare asparagus by trimming woody base and cutting diagonally into 4 inch pieces.',\n",
       " 'In a roasting pan, combine asparagus, bell pepper, mushrooms, roasted garlic and tomato. Sprinkle with rosemary and oregano, then drizzle with olive oil. Bake in preheated oven for 15 minutes.',\n",
       " 'Bring a large pot of lightly salted water to a boil. Add pasta and cook for 8 to 10 minutes or until al dente; drain. Toss with Parmesan cheese, tapenade and roasted vegetables.',\n",
       " 'Add olive oil to a pan and chop chicken breast into bite size chunk. Then stir fry the chicken the pan at medium heat for 5 minutes each side.',\n",
       " 'Add olive oil to a pan and chop chicken breast into bite size chunks. Then stir fry the chicken the pan at medium heat for 5 minutes each side.']"
      ]
     },
     "execution_count": 165,
     "metadata": {},
     "output_type": "execute_result"
    }
   ],
   "source": [
    "h = change_directions_to_meat(directions, ingredients, res['name'])\n",
    "h"
   ]
  },
  {
   "cell_type": "code",
   "execution_count": 62,
   "metadata": {},
   "outputs": [
    {
     "data": {
      "text/plain": [
       "{'ingredients': ['1/4 pound fresh asparagus',\n",
       "  '2 red bell pepper, sliced',\n",
       "  '1/4 pound crimini mushrooms, sliced',\n",
       "  '10 cloves roasted garlic, chopped',\n",
       "  '1/2 tomato, quartered',\n",
       "  '1/2 teaspoon chopped fresh rosemary',\n",
       "  '1/2 teaspoon chopped fresh oregano',\n",
       "  '2 tablespoons olive oil',\n",
       "  '8 ounces dry fettuccini noodles',\n",
       "  '1/4 cup grated Parmesan cheese',\n",
       "  '2 tablespoons tapenade',\n",
       "  '1 pound chicken breast'],\n",
       " 'directions': ['Preheat oven to 350 degrees F (175 degrees C). Prepare asparagus by trimming woody base and cutting diagonally into 4 inch pieces.',\n",
       "  'In a roasting pan, combine asparagus, bell pepper, mushrooms, roasted garlic and tomato. Sprinkle with rosemary and oregano, then drizzle with olive oil. Bake in preheated oven for 15 minutes.',\n",
       "  'Bring a large pot of lightly salted water to a boil. Add pasta and cook for 8 to 10 minutes or until al dente; drain. Toss with Parmesan cheese, tapenade and roasted vegetables.'],\n",
       " 'nutrition': {'Total Fat': ['14.6g', '23%'],\n",
       "  'Saturated Fat': ['3.0g', ''],\n",
       "  'Cholesterol': ['6mg', '2%'],\n",
       "  'Sodium': ['213mg', '9%'],\n",
       "  'Potassium': ['486mg', '14%'],\n",
       "  'Total Carbohydrates': ['66.7g', '22%'],\n",
       "  'Dietary Fiber': ['6.2g', '25%'],\n",
       "  'Protein': ['16.8g', '34%'],\n",
       "  'Sugars': ['7g', ''],\n",
       "  'Vitamin A': ['2977IU', ''],\n",
       "  'Vitamin C': ['109mg', ''],\n",
       "  'Calcium': ['126mg', ''],\n",
       "  'Iron': ['4mg', ''],\n",
       "  'Thiamin': ['0mg', ''],\n",
       "  'Niacin': ['7mg', ''],\n",
       "  'Vitamin B6': ['1mg', ''],\n",
       "  'Magnesium': ['57mg', ''],\n",
       "  'Folate': ['208mcg', '']},\n",
       " 'calories_and_servings': [3, -1, 456]}"
      ]
     },
     "execution_count": 62,
     "metadata": {},
     "output_type": "execute_result"
    }
   ],
   "source": [
    "res"
   ]
  }
 ],
 "metadata": {
  "kernelspec": {
   "display_name": "Python 3",
   "language": "python",
   "name": "python3"
  },
  "language_info": {
   "codemirror_mode": {
    "name": "ipython",
    "version": 3
   },
   "file_extension": ".py",
   "mimetype": "text/x-python",
   "name": "python",
   "nbconvert_exporter": "python",
   "pygments_lexer": "ipython3",
   "version": "3.7.4"
  }
 },
 "nbformat": 4,
 "nbformat_minor": 2
}
