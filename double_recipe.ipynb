{
 "cells": [
  {
   "cell_type": "code",
   "execution_count": 3,
   "metadata": {},
   "outputs": [],
   "source": [
    "from bs4 import BeautifulSoup\n",
    "import requests\n",
    "import re"
   ]
  },
  {
   "cell_type": "code",
   "execution_count": null,
   "metadata": {},
   "outputs": [],
   "source": []
  },
  {
   "cell_type": "code",
   "execution_count": 4,
   "metadata": {},
   "outputs": [],
   "source": [
    "def get_numbers(lst):\n",
    "    new_list = [int(x.split(':')[1]) if ':' in x else -1 for x in lst]\n",
    "    return new_list\n",
    "\n",
    "class RecipeFetcher:\n",
    "\n",
    "    search_base_url = 'https://www.allrecipes.com/search/results/?wt=%s&sort=re'\n",
    "\n",
    "    def search_recipes(self, keywords): \n",
    "        search_url = self.search_base_url %(keywords.replace(' ','+'))\n",
    "\n",
    "        page_html = requests.get(search_url)\n",
    "        page_graph = BeautifulSoup(page_html.content)\n",
    "\n",
    "        return [recipe.a['href'] for recipe in\\\n",
    "               page_graph.find_all('div', {'class':'grid-card-image-container'})]\n",
    "\n",
    "    def scrape_recipe(self, recipe_url):\n",
    "        results = {}\n",
    "\n",
    "        page_html = requests.get(recipe_url)\n",
    "        print(recipe_url)\n",
    "        page_graph = BeautifulSoup(page_html.content)\n",
    "\n",
    "        results['ingredients'] = [ingredient.text for ingredient in\\\n",
    "                                  page_graph.find_all('span', {'itemprop':'recipeIngredient'})]\n",
    "\n",
    "        results['directions'] = [direction.text.strip() for direction in\\\n",
    "                                 page_graph.find_all('span', {'class':'recipe-directions__list--item'})\n",
    "                                 if direction.text.strip()]\n",
    "\n",
    "        results['nutrition'] = self.scrape_nutrition_facts(recipe_url)\n",
    "        \n",
    "        results['calories_and_servings'] = self.scrape_calories_servings(recipe_url)\n",
    "\n",
    "        return results\n",
    "    \n",
    "    def scrape_nutrition_facts(self, recipe_url):\n",
    "        results = []\n",
    "\n",
    "        nutrition_facts_url = '%s/fullrecipenutrition' %(recipe_url)\n",
    "\n",
    "        page_html = requests.get(nutrition_facts_url)\n",
    "        page_graph = BeautifulSoup(page_html.content)\n",
    "\n",
    "        r = re.compile(\"([0-9]*\\.?[0-9]*)([a-zA-Z]+)\")\n",
    "        \n",
    "        nutrient = {}\n",
    "\n",
    "        for nutrient_row in page_graph.find_all('div', {'class': 'nutrition-row'}):\n",
    "            \n",
    "            lst = nutrient_row.text.split(':')\n",
    "            amount_lst = lst[1]\n",
    "            name = lst[0].replace('\\n', '')\n",
    "            \n",
    "            amount = amount_lst.split('\\n')\n",
    "            amount = [x.replace(' ', '') for x in amount[:2]]\n",
    "            \n",
    "            nutrient[name] = amount\n",
    "            \n",
    "        return nutrient\n",
    "    \n",
    "    def scrape_calories_servings(self, recipe_url):\n",
    "        \"\"\"\n",
    "        returns [servings per recipe, amt per serving, calories]\n",
    "        \"\"\"\n",
    "\n",
    "        nutrition_facts_url = '%s/fullrecipenutrition' %(recipe_url)\n",
    "\n",
    "        page_html = requests.get(nutrition_facts_url)\n",
    "        page_graph = BeautifulSoup(page_html.content)\n",
    "\n",
    "        r = re.compile(\"([0-9]*\\.?[0-9]*)([a-zA-Z]+)\")\n",
    "        \n",
    "        nutrient = {}\n",
    "\n",
    "        for row in page_graph.find_all('div', {'class': 'nutrition-top light-underline'}):\n",
    "            lst = row.text.split('\\n')\n",
    "            lst = list(filter(lambda a: a != '\\r', lst))\n",
    "            \n",
    "            calories = [x.lstrip() for x in lst]\n",
    "            calories.pop()\n",
    "            info = get_numbers(calories)\n",
    "            \n",
    "            return info\n",
    "      "
   ]
  },
  {
   "cell_type": "code",
   "execution_count": 128,
   "metadata": {},
   "outputs": [
    {
     "name": "stdout",
     "output_type": "stream",
     "text": [
      "https://www.allrecipes.com/recipe/13028/italian-vegetable-soup/\n"
     ]
    }
   ],
   "source": [
    "rf = RecipeFetcher()\n",
    "url = rf.search_recipes('vegetable soup')[0]\n",
    "res = rf.scrape_recipe(url)"
   ]
  },
  {
   "cell_type": "code",
   "execution_count": 131,
   "metadata": {},
   "outputs": [
    {
     "name": "stdout",
     "output_type": "stream",
     "text": [
      "ORIGINAL INGREDIENTS:\n",
      "['1 pound ground beef', '1 cup chopped onion', '1 cup chopped celery', '1 cup chopped carrots', '2 cloves garlic, minced', '1 (14.5 ounce) can peeled and diced tomatoes', '1 (15 ounce) can tomato sauce', '2 (19 ounce) cans kidney beans, drained and rinsed', '2 cups water', '5 teaspoons beef bouillon granules', '1 tablespoon dried parsley', '1/2 teaspoon dried oregano', '1/2 teaspoon dried basil', '2 cups chopped cabbage', '1 (15.25 ounce) can whole kernel corn', '1 (15 ounce) can green beans', '1 cup macaroni']\n",
      "\n",
      "NEW INGREDIENTS:\n",
      "['2  pounds ground beef', '2  cups chopped onion', '2  cups chopped celery', '2  cups chopped carrots', '4  cloves garlic, minced', '2 (14.5 ounce) can peeled and diced tomatoes', '2 (15 ounce) can tomato sauce', '4  (19 ounce) cans kidney beans, drained and rinsed', '4  cups water', '10  teaspoons beef bouillon granules', '2  tablespoons dried parsley', '1  teaspoon dried oregano', '1  teaspoon dried basil', '4  cups chopped cabbage', '2 (15.25 ounce) can whole kernel corn', '2 (15 ounce) can green beans', '2  cups macaroni']\n"
     ]
    }
   ],
   "source": [
    "ingredients_list = res['ingredients']\n",
    "print('ORIGINAL INGREDIENTS:')\n",
    "print(ingredients_list)\n",
    "print()\n",
    "\n",
    "new_ingredients = multiply_recipe(ingredients_list, multiplier=2)\n",
    "print('NEW INGREDIENTS:')\n",
    "print(new_ingredients)"
   ]
  },
  {
   "cell_type": "code",
   "execution_count": null,
   "metadata": {
    "scrolled": true
   },
   "outputs": [],
   "source": []
  },
  {
   "cell_type": "code",
   "execution_count": 1,
   "metadata": {},
   "outputs": [],
   "source": [
    "MEASUREMENT_WORDS = ['cup', 'oz', 'ounce', 'pound', 'clove', 'teaspoon', 'tsp', 'tablespoon', 'tbs', 'egg', 'jar', 'package', 'pack', 'can']\n",
    "\n",
    "def multiply_recipe(ingredients_list, multiplier):\n",
    "    \n",
    "    new_ingredients_list = []\n",
    "    \n",
    "    # go through each ingredient in the recipe\n",
    "    for ingredient in ingredients_list:\n",
    "        tokens = ingredient.split()\n",
    "        original_quantity = 0\n",
    "        ingredient_name = ''\n",
    "        \n",
    "        # split ingredient into tokens to separate the 'quantity' from 'ingredient_name'\n",
    "        for token in tokens:            \n",
    "            if any([str(digit) in token for digit in range(10)]) and not any([char in token for char in ['(', ')']]):\n",
    "                fraction_obj = sum(map(fractions.Fraction, token.split()))\n",
    "                as_float = float(fraction_obj)\n",
    "                original_quantity += as_float\n",
    "            else:\n",
    "                ingredient_name = ingredient_name + ' ' + token\n",
    "\n",
    "        # multiply amount by 'multiplier'\n",
    "        new_quantity = original_quantity * multiplier\n",
    "        \n",
    "        # check if 'new_quantity' crosses 1\n",
    "        # append/delete plural 's' from end of measurement word\n",
    "        # Ex: 3 cups --> 1 cup, 1/2 tablespoon --> 2 tablespoons\n",
    "        if original_quantity <= 1 and new_quantity > 1:\n",
    "            tokens = ingredient_name.split()\n",
    "            if tokens[0] in MEASUREMENT_WORDS:\n",
    "                tokens[0] = ' '+ tokens[0] + 's'\n",
    "            ingredient_name = ' '.join(tokens)\n",
    "        elif original_quantity > 1 and new_quantity <= 1:\n",
    "            tokens = ingredient_name.split()\n",
    "            if tokens[0][0:-1] in MEASUREMENT_WORDS:\n",
    "                tokens[0] = tokens[0][0:-1]\n",
    "            ingredient_name = ' '.join(tokens)\n",
    "        \n",
    "        # convert float to mixed fraction\n",
    "        base = int(new_quantity // 1)\n",
    "        if base == new_quantity:\n",
    "            new_num = str(base) + ' '\n",
    "        elif new_quantity < 1:\n",
    "            frac = fractions.Fraction.from_float(new_quantity).limit_denominator()\n",
    "            new_num = str(frac)\n",
    "        else:\n",
    "            frac = fractions.Fraction.from_float(new_quantity % base).limit_denominator()\n",
    "            new_num = str(base) + ' ' + str(frac)\n",
    "        \n",
    "        # update the multiplied quantity in the ingredients list\n",
    "        if new_quantity != 0:\n",
    "            new_ingredients_list.append(new_num + ingredient_name)\n",
    "        else:\n",
    "            new_ingredients_list.append(ingredient_name[1:])\n",
    "          \n",
    "    return new_ingredients_list"
   ]
  },
  {
   "cell_type": "code",
   "execution_count": null,
   "metadata": {},
   "outputs": [],
   "source": []
  },
  {
   "cell_type": "code",
   "execution_count": null,
   "metadata": {},
   "outputs": [],
   "source": []
  },
  {
   "cell_type": "code",
   "execution_count": null,
   "metadata": {},
   "outputs": [],
   "source": []
  }
 ],
 "metadata": {
  "kernelspec": {
   "display_name": "Python 3",
   "language": "python",
   "name": "python3"
  },
  "language_info": {
   "codemirror_mode": {
    "name": "ipython",
    "version": 3
   },
   "file_extension": ".py",
   "mimetype": "text/x-python",
   "name": "python",
   "nbconvert_exporter": "python",
   "pygments_lexer": "ipython3",
   "version": "3.7.4"
  }
 },
 "nbformat": 4,
 "nbformat_minor": 2
}
