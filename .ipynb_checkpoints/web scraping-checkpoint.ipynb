{
 "cells": [
  {
   "cell_type": "code",
   "execution_count": 153,
   "metadata": {},
   "outputs": [],
   "source": [
    "from bs4 import BeautifulSoup\n",
    "import requests\n",
    "import re"
   ]
  },
  {
   "cell_type": "code",
   "execution_count": 154,
   "metadata": {},
   "outputs": [],
   "source": [
    "def get_numbers(lst):\n",
    "    new_list = [int(x.split(':')[1]) if ':' in x else -1 for x in lst]\n",
    "    return new_list"
   ]
  },
  {
   "cell_type": "code",
   "execution_count": 147,
   "metadata": {},
   "outputs": [],
   "source": [
    "class RecipeFetcher:\n",
    "\n",
    "    search_base_url = 'https://www.allrecipes.com/search/results/?wt=%s&sort=re'\n",
    "\n",
    "    def search_recipes(self, keywords): \n",
    "        search_url = self.search_base_url %(keywords.replace(' ','+'))\n",
    "\n",
    "        page_html = requests.get(search_url)\n",
    "        page_graph = BeautifulSoup(page_html.content)\n",
    "\n",
    "        return [recipe.a['href'] for recipe in\\\n",
    "               page_graph.find_all('div', {'class':'grid-card-image-container'})]\n",
    "\n",
    "    def scrape_recipe(self, recipe_url):\n",
    "        results = {}\n",
    "\n",
    "        page_html = requests.get(recipe_url)\n",
    "        print(recipe_url)\n",
    "        page_graph = BeautifulSoup(page_html.content)\n",
    "\n",
    "        results['ingredients'] = [ingredient.text for ingredient in\\\n",
    "                                  page_graph.find_all('span', {'itemprop':'recipeIngredient'})]\n",
    "\n",
    "        results['directions'] = [direction.text.strip() for direction in\\\n",
    "                                 page_graph.find_all('span', {'class':'recipe-directions__list--item'})\n",
    "                                 if direction.text.strip()]\n",
    "\n",
    "        results['nutrition'] = self.scrape_nutrition_facts(recipe_url)\n",
    "        \n",
    "        results['calories_and_servings'] = self.scrape_calories_servings(recipe_url)\n",
    "\n",
    "        return results\n",
    "    \n",
    "    def scrape_nutrition_facts(self, recipe_url):\n",
    "        results = []\n",
    "\n",
    "        nutrition_facts_url = '%s/fullrecipenutrition' %(recipe_url)\n",
    "\n",
    "        page_html = requests.get(nutrition_facts_url)\n",
    "        page_graph = BeautifulSoup(page_html.content)\n",
    "\n",
    "        r = re.compile(\"([0-9]*\\.?[0-9]*)([a-zA-Z]+)\")\n",
    "        \n",
    "        nutrient = {}\n",
    "\n",
    "        for nutrient_row in page_graph.find_all('div', {'class': 'nutrition-row'}):\n",
    "            \n",
    "            lst = nutrient_row.text.split(':')\n",
    "            amount_lst = lst[1]\n",
    "            name = lst[0].replace('\\n', '')\n",
    "            \n",
    "            amount = amount_lst.split('\\n')\n",
    "            amount = [x.replace(' ', '') for x in amount[:2]]\n",
    "            \n",
    "            nutrient[name] = amount\n",
    "            \n",
    "        return nutrient\n",
    "    \n",
    "    def scrape_calories_servings(self, recipe_url):\n",
    "        \"\"\"\n",
    "        returns [servings per recipe, amt per serving, calories]\n",
    "        \"\"\"\n",
    "\n",
    "        nutrition_facts_url = '%s/fullrecipenutrition' %(recipe_url)\n",
    "\n",
    "        page_html = requests.get(nutrition_facts_url)\n",
    "        page_graph = BeautifulSoup(page_html.content)\n",
    "\n",
    "        r = re.compile(\"([0-9]*\\.?[0-9]*)([a-zA-Z]+)\")\n",
    "        \n",
    "        nutrient = {}\n",
    "\n",
    "        for row in page_graph.find_all('div', {'class': 'nutrition-top light-underline'}):\n",
    "            lst = row.text.split('\\n')\n",
    "            lst = list(filter(lambda a: a != '\\r', lst))\n",
    "            \n",
    "            calories = [x.lstrip() for x in lst]\n",
    "            calories.pop()\n",
    "            info = get_numbers(calories)\n",
    "            \n",
    "            return info\n",
    "\n",
    "            \n",
    "        "
   ]
  },
  {
   "cell_type": "code",
   "execution_count": 150,
   "metadata": {},
   "outputs": [
    {
     "name": "stdout",
     "output_type": "stream",
     "text": [
      "https://www.allrecipes.com/recipe/162760/fluffy-pancakes/\n"
     ]
    }
   ],
   "source": [
    "rf = RecipeFetcher()\n",
    "chow_mein = rf.search_recipes('fluffy pancakes')[0]\n",
    "res = rf.scrape_recipe(chow_mein)"
   ]
  },
  {
   "cell_type": "code",
   "execution_count": 144,
   "metadata": {},
   "outputs": [
    {
     "data": {
      "text/plain": [
       "[4, -1, 526]"
      ]
     },
     "execution_count": 144,
     "metadata": {},
     "output_type": "execute_result"
    }
   ],
   "source": [
    "res['calories_and_servings']"
   ]
  },
  {
   "cell_type": "code",
   "execution_count": 151,
   "metadata": {
    "scrolled": true
   },
   "outputs": [
    {
     "data": {
      "text/plain": [
       "{'ingredients': ['3/4 cup milk',\n",
       "  '2 tablespoons white vinegar',\n",
       "  '1 cup all-purpose flour',\n",
       "  '2 tablespoons white sugar',\n",
       "  '1 teaspoon baking powder',\n",
       "  '1/2 teaspoon baking soda',\n",
       "  '1/2 teaspoon salt',\n",
       "  '1 egg',\n",
       "  '2 tablespoons butter, melted',\n",
       "  'cooking spray'],\n",
       " 'directions': ['Combine milk with vinegar in a medium bowl and set aside for 5 minutes to \"sour\".\\n                                    Watch Now',\n",
       "  'Combine flour, sugar, baking powder, baking soda, and salt in a large mixing bowl. Whisk egg and butter into \"soured\" milk. Pour the flour mixture into the wet ingredients and whisk until lumps are gone.\\n                                    Watch Now',\n",
       "  'Heat a large skillet over medium heat, and coat with cooking spray. Pour 1/4 cupfuls of batter onto the skillet, and cook until bubbles appear on the surface. Flip with a spatula, and cook until browned on the other side.\\n                                    Watch Now'],\n",
       " 'nutrition': {'Total Fat': ['8.2g', '13%'],\n",
       "  'Saturated Fat': ['5.0g', ''],\n",
       "  'Cholesterol': ['65mg', '22%'],\n",
       "  'Sodium': ['650mg', '26%'],\n",
       "  'Potassium': ['121mg', '3%'],\n",
       "  'Total Carbohydrates': ['32.7g', '11%'],\n",
       "  'Dietary Fiber': ['0.8g', '3%'],\n",
       "  'Protein': ['6.4g', '13%'],\n",
       "  'Sugars': ['9g', ''],\n",
       "  'Vitamin A': ['325IU', ''],\n",
       "  'Vitamin C': ['0mg', ''],\n",
       "  'Calcium': ['134mg', ''],\n",
       "  'Iron': ['2mg', ''],\n",
       "  'Thiamin': ['0mg', ''],\n",
       "  'Niacin': ['3mg', ''],\n",
       "  'Vitamin B6': ['0mg', ''],\n",
       "  'Magnesium': ['14mg', ''],\n",
       "  'Folate': ['66mcg', '']},\n",
       " 'calories_and_servings': [4, -1, 230]}"
      ]
     },
     "execution_count": 151,
     "metadata": {},
     "output_type": "execute_result"
    }
   ],
   "source": [
    "res"
   ]
  },
  {
   "cell_type": "code",
   "execution_count": 2,
   "metadata": {},
   "outputs": [
    {
     "data": {
      "text/plain": [
       "str"
      ]
     },
     "execution_count": 2,
     "metadata": {},
     "output_type": "execute_result"
    }
   ],
   "source": [
    "type('4')"
   ]
  },
  {
   "cell_type": "code",
   "execution_count": null,
   "metadata": {},
   "outputs": [],
   "source": []
  }
 ],
 "metadata": {
  "kernelspec": {
   "display_name": "Python 3",
   "language": "python",
   "name": "python3"
  },
  "language_info": {
   "codemirror_mode": {
    "name": "ipython",
    "version": 3
   },
   "file_extension": ".py",
   "mimetype": "text/x-python",
   "name": "python",
   "nbconvert_exporter": "python",
   "pygments_lexer": "ipython3",
   "version": "3.7.4"
  }
 },
 "nbformat": 4,
 "nbformat_minor": 2
}
