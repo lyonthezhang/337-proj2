{
 "cells": [
  {
   "cell_type": "code",
   "execution_count": 39,
   "metadata": {},
   "outputs": [],
   "source": [
    "import web_scraping\n",
    "import fractions"
   ]
  },
  {
   "cell_type": "code",
   "execution_count": 49,
   "metadata": {},
   "outputs": [],
   "source": [
    "rf = web_scraping.RecipeFetcher()\n",
    "chow_mein = rf.search_recipes('meat lasagna')[0]\n",
    "res = rf.scrape_recipe(chow_mein)"
   ]
  },
  {
   "cell_type": "code",
   "execution_count": null,
   "metadata": {},
   "outputs": [],
   "source": []
  },
  {
   "cell_type": "code",
   "execution_count": 46,
   "metadata": {},
   "outputs": [],
   "source": [
    "MEASUREMENT_WORDS = ['cup', 'oz', 'ounce', 'pound', 'clove', 'teaspoon', 'tsp', 'tablespoon', 'tbs', 'jar', 'package', 'pack', 'can', 'bottle', 'pinch', 'pinches']\n",
    "PLURAL_MEASUREMENT_WORDS = [x + 's' for x in MEASUREMENT_WORDS]\n",
    "ALL_MEASUREMENT_WORDS = MEASUREMENT_WORDS + PLURAL_MEASUREMENT_WORDS\n",
    "\n",
    "def parse_recipe(res):\n",
    "    \n",
    "    parsed_recipe = {}\n",
    "    \n",
    "    parsed_recipe['ingredients'] = parse_ingredients(res['ingredients'])\n",
    "    \n",
    "    return res\n",
    "\n",
    "def parse_ingredients(ingredients_list):\n",
    "\n",
    "    parsed_ingredients = []\n",
    "\n",
    "    for ingredient in ingredients_list:\n",
    "        tokens = ingredient.split()\n",
    "        quantity = 0\n",
    "        name = ''\n",
    "        measurement = ''\n",
    "\n",
    "        # assign token to 'quantity', 'measurement', or 'name'\n",
    "        for token in tokens:\n",
    "            if any([str(digit) in token for digit in range(10)]) and not any([char in token for char in ['(', ')']]):\n",
    "                fraction_obj = sum(map(fractions.Fraction, token.split()))\n",
    "                as_float = float(fraction_obj)\n",
    "                quantity += as_float\n",
    "            elif any([token in x for x in ALL_MEASUREMENT_WORDS]) or any([char in token for char in ['(', ')']]):\n",
    "                measurement += token + ' '\n",
    "            else:\n",
    "                name = name + token + ' '\n",
    "        parsed_ingredients.append({'name': name[0:-1],\n",
    "                                   'quantity': quantity,\n",
    "                                   'measurement': measurement[0:-1]})\n",
    "\n",
    "    return parsed_ingredients\n",
    "        "
   ]
  },
  {
   "cell_type": "code",
   "execution_count": 47,
   "metadata": {},
   "outputs": [
    {
     "ename": "AttributeError",
     "evalue": "'dict' object has no attribute 'split'",
     "output_type": "error",
     "traceback": [
      "\u001b[0;31m---------------------------------------------------------------------------\u001b[0m",
      "\u001b[0;31mAttributeError\u001b[0m                            Traceback (most recent call last)",
      "\u001b[0;32m<ipython-input-47-3121f3abf521>\u001b[0m in \u001b[0;36m<module>\u001b[0;34m\u001b[0m\n\u001b[0;32m----> 1\u001b[0;31m \u001b[0mparsed_res\u001b[0m \u001b[0;34m=\u001b[0m \u001b[0mparse_recipe\u001b[0m\u001b[0;34m(\u001b[0m\u001b[0mres\u001b[0m\u001b[0;34m)\u001b[0m\u001b[0;34m\u001b[0m\u001b[0;34m\u001b[0m\u001b[0m\n\u001b[0m\u001b[1;32m      2\u001b[0m \u001b[0mprint\u001b[0m\u001b[0;34m(\u001b[0m\u001b[0mparsed_res\u001b[0m\u001b[0;34m[\u001b[0m\u001b[0;34m'ingredients'\u001b[0m\u001b[0;34m]\u001b[0m\u001b[0;34m)\u001b[0m\u001b[0;34m\u001b[0m\u001b[0;34m\u001b[0m\u001b[0m\n",
      "\u001b[0;32m<ipython-input-46-bb6b798e9d67>\u001b[0m in \u001b[0;36mparse_recipe\u001b[0;34m(res)\u001b[0m\n\u001b[1;32m      8\u001b[0m \u001b[0;34m\u001b[0m\u001b[0m\n\u001b[1;32m      9\u001b[0m     \u001b[0;32mfor\u001b[0m \u001b[0mingredient\u001b[0m \u001b[0;32min\u001b[0m \u001b[0mingredients_list\u001b[0m\u001b[0;34m:\u001b[0m\u001b[0;34m\u001b[0m\u001b[0;34m\u001b[0m\u001b[0m\n\u001b[0;32m---> 10\u001b[0;31m         \u001b[0mtokens\u001b[0m \u001b[0;34m=\u001b[0m \u001b[0mingredient\u001b[0m\u001b[0;34m.\u001b[0m\u001b[0msplit\u001b[0m\u001b[0;34m(\u001b[0m\u001b[0;34m)\u001b[0m\u001b[0;34m\u001b[0m\u001b[0;34m\u001b[0m\u001b[0m\n\u001b[0m\u001b[1;32m     11\u001b[0m         \u001b[0mquantity\u001b[0m \u001b[0;34m=\u001b[0m \u001b[0;36m0\u001b[0m\u001b[0;34m\u001b[0m\u001b[0;34m\u001b[0m\u001b[0m\n\u001b[1;32m     12\u001b[0m         \u001b[0mname\u001b[0m \u001b[0;34m=\u001b[0m \u001b[0;34m''\u001b[0m\u001b[0;34m\u001b[0m\u001b[0;34m\u001b[0m\u001b[0m\n",
      "\u001b[0;31mAttributeError\u001b[0m: 'dict' object has no attribute 'split'"
     ]
    }
   ],
   "source": [
    "parsed_res = parse_recipe(res)\n",
    "print(parsed_res['ingredients'])"
   ]
  },
  {
   "cell_type": "code",
   "execution_count": 50,
   "metadata": {
    "scrolled": true
   },
   "outputs": [
    {
     "data": {
      "text/plain": [
       "{'ingredients': ['12 whole wheat lasagna noodles',\n",
       "  '1 pound lean ground beef',\n",
       "  '2 cloves garlic, chopped',\n",
       "  '1/2 teaspoon garlic powder',\n",
       "  '1 teaspoon dried oregano, or to taste',\n",
       "  'salt and ground black pepper to taste',\n",
       "  '1 (16 ounce) package cottage cheese',\n",
       "  '2 eggs',\n",
       "  '1/2 cup shredded Parmesan cheese',\n",
       "  '1 1/2 (25 ounce) jars tomato-basil pasta sauce',\n",
       "  '2 cups shredded mozzarella cheese'],\n",
       " 'directions': ['Preheat oven to 350 degrees F (175 degrees C).',\n",
       "  'Fill a large pot with lightly salted water and bring to a rolling boil over high heat. Once the water is boiling, add the lasagna noodles a few at a time, and return to a boil. Cook the pasta uncovered, stirring occasionally, until the pasta has cooked through, but is still firm to the bite, about 10 minutes. Remove the noodles to a plate.',\n",
       "  'Place the ground beef into a skillet over medium heat, add the garlic, garlic powder, oregano, salt, and black pepper to the skillet. Cook the meat, chopping it into small chunks as it cooks, until no longer pink, about 10 minutes. Drain excess grease.',\n",
       "  'In a bowl, mix the cottage cheese, eggs, and Parmesan cheese until thoroughly combined.',\n",
       "  'Place 4 noodles side by side into the bottom of a 9x13-inch baking pan; top with a layer of the tomato-basil sauce, a layer of ground beef mixture, and a layer of the cottage cheese mixture. Repeat layers twice more, ending with a layer of sauce; sprinkle top with the mozzarella cheese. Cover the dish with aluminum foil.',\n",
       "  'Bake in the preheated oven until the casserole is bubbling and the cheese has melted, about 30 minutes. Remove foil and bake until cheese has begun to brown, about 10 more minutes. Allow to stand at least 10 minutes before serving.'],\n",
       " 'nutrition': {'Total Fat': ['19.3g', '30%'],\n",
       "  'Saturated Fat': ['9.0g', ''],\n",
       "  'Cholesterol': ['115mg', '38%'],\n",
       "  'Sodium': ['999mg', '40%'],\n",
       "  'Potassium': ['717mg', '20%'],\n",
       "  'Total Carbohydrates': ['47.1g', '15%'],\n",
       "  'Dietary Fiber': ['6.3g', '25%'],\n",
       "  'Protein': ['35.6g', '71%'],\n",
       "  'Sugars': ['12g', ''],\n",
       "  'Vitamin A': ['855IU', ''],\n",
       "  'Vitamin C': ['2mg', ''],\n",
       "  'Calcium': ['361mg', ''],\n",
       "  'Iron': ['4mg', ''],\n",
       "  'Thiamin': ['0mg', ''],\n",
       "  'Niacin': ['11mg', ''],\n",
       "  'Vitamin B6': ['0mg', ''],\n",
       "  'Magnesium': ['74mg', ''],\n",
       "  'Folate': ['41mcg', '']},\n",
       " 'calories_and_servings': [8, -1, 501]}"
      ]
     },
     "execution_count": 50,
     "metadata": {},
     "output_type": "execute_result"
    }
   ],
   "source": [
    "res"
   ]
  },
  {
   "cell_type": "code",
   "execution_count": null,
   "metadata": {},
   "outputs": [],
   "source": []
  }
 ],
 "metadata": {
  "kernelspec": {
   "display_name": "Python 3",
   "language": "python",
   "name": "python3"
  },
  "language_info": {
   "codemirror_mode": {
    "name": "ipython",
    "version": 3
   },
   "file_extension": ".py",
   "mimetype": "text/x-python",
   "name": "python",
   "nbconvert_exporter": "python",
   "pygments_lexer": "ipython3",
   "version": "3.7.4"
  }
 },
 "nbformat": 4,
 "nbformat_minor": 2
}
