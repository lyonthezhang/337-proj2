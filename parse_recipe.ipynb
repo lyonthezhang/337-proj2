{
 "cells": [
  {
   "cell_type": "code",
   "execution_count": 39,
   "metadata": {},
   "outputs": [],
   "source": [
    "import web_scraping\n",
    "import fractions"
   ]
  },
  {
   "cell_type": "code",
   "execution_count": 79,
   "metadata": {},
   "outputs": [],
   "source": [
    "rf = web_scraping.RecipeFetcher()\n",
    "chow_mein = rf.search_recipes('meatloaf')[0]\n",
    "res = rf.scrape_recipe(chow_mein)"
   ]
  },
  {
   "cell_type": "code",
   "execution_count": null,
   "metadata": {},
   "outputs": [],
   "source": []
  },
  {
   "cell_type": "code",
   "execution_count": 85,
   "metadata": {},
   "outputs": [],
   "source": [
    "MEASUREMENT_WORDS = ['cup', 'oz', 'ounce', 'pound', 'clove', 'teaspoon', 'tsp', 'tablespoon', 'tbs', 'jar', 'package', 'pack', 'can', 'bottle', 'pinch', 'pinches']\n",
    "PLURAL_MEASUREMENT_WORDS = [x + 's' for x in MEASUREMENT_WORDS]\n",
    "ALL_MEASUREMENT_WORDS = MEASUREMENT_WORDS + PLURAL_MEASUREMENT_WORDS\n",
    "\n",
    "def parse_ingredients(ingredients_list):\n",
    "\n",
    "    parsed_ingredients = []\n",
    "\n",
    "    for ingredient in ingredients_list:\n",
    "        tokens = ingredient.split()\n",
    "        quantity = 0\n",
    "        name = ''\n",
    "        measurement = ''\n",
    "\n",
    "        # assign token to 'quantity', 'measurement', or 'name'\n",
    "        for token in tokens:\n",
    "            if any([str(digit) in token for digit in range(10)]) and not any([char in token for char in ['(', ')']]):\n",
    "                fraction_obj = sum(map(fractions.Fraction, token.split()))\n",
    "                as_float = float(fraction_obj)\n",
    "                quantity += as_float\n",
    "            elif any([token in x for x in ALL_MEASUREMENT_WORDS]) or any([char in token for char in ['(', ')']]):\n",
    "                measurement += token + ' '\n",
    "            else:\n",
    "                name = name + token + ' '\n",
    "        parsed_ingredients.append({'name': name[0:-1],\n",
    "                                   'quantity': quantity,\n",
    "                                   'measurement': measurement[0:-1]})\n",
    "\n",
    "    return parsed_ingredients\n",
    "\n",
    "def parse_tools():\n",
    "    pass\n",
    "\n",
    "COOKING_METHODS = ['boil', 'bake', 'broil', 'saute', 'brown', 'toast', 'stir fry', 'pan fry', 'deep fry', 'sear', 'braise', 'poach', 'beat', 'mix', 'blend', 'whisk', 'fold']\n",
    "def parse_methods(directions_list):\n",
    "    methods = []\n",
    "    for method in COOKING_METHODS:\n",
    "        if any([method in step.lower() for step in directions_list]):\n",
    "            methods.append(method)\n",
    "    return methods\n",
    "\n",
    "TIME_WORDS = ['until', 'minute', 'seconds', 'hour']\n",
    "def parse_steps():\n",
    "    pass\n",
    "\n",
    "def parse_recipe(res):\n",
    "    \n",
    "    parsed_recipe = {}\n",
    "    parsed_recipe['ingredients'] = parse_ingredients(res['ingredients'])\n",
    "    parsed_recipe['tools'] = parse_tools()\n",
    "    parsed_recipe['methods'] = parse_methods(res['directions'])\n",
    "    parsed_recipe['steps'] = parse_steps()\n",
    "    \n",
    "    return parsed_recipe"
   ]
  },
  {
   "cell_type": "code",
   "execution_count": 88,
   "metadata": {},
   "outputs": [
    {
     "name": "stdout",
     "output_type": "stream",
     "text": [
      "['bake', 'mix']\n",
      "{'name': 'lean ground beef', 'quantity': 2.0, 'measurement': 'pounds'}\n",
      "{'name': 'condensed tomato soup', 'quantity': 1.0, 'measurement': '(10.75 ounce) can'}\n",
      "{'name': 'onion, finely diced', 'quantity': 1.0, 'measurement': ''}\n",
      "{'name': 'rolled oats', 'quantity': 1.0, 'measurement': 'cup'}\n",
      "{'name': 'eggs, beaten', 'quantity': 2.0, 'measurement': ''}\n",
      "{'name': 'steak sauce', 'quantity': 1.0, 'measurement': 'tablespoon'}\n",
      "{'name': 'ketchup', 'quantity': 0.5, 'measurement': 'cup'}\n",
      "{'name': 'prepared mustard', 'quantity': 3.0, 'measurement': 'tablespoons'}\n"
     ]
    }
   ],
   "source": [
    "parsed_res = parse_recipe(res)\n",
    "print(parsed_res['methods'])\n",
    "for x in parsed_res['ingredients']:\n",
    "    print(x)"
   ]
  },
  {
   "cell_type": "code",
   "execution_count": 87,
   "metadata": {
    "scrolled": true
   },
   "outputs": [
    {
     "data": {
      "text/plain": [
       "['In a large bowl, combine ground meat, soup, chopped onion, rolled oats, eggs, steak sauce, ketchup and mustard. Mix well.',\n",
       " 'Shape into a loaf, and pat Into a loaf pan.',\n",
       " 'Bake in a preheated 350 degrees F (175 degrees C) oven for 1 hour or until done.']"
      ]
     },
     "execution_count": 87,
     "metadata": {},
     "output_type": "execute_result"
    }
   ],
   "source": [
    "res['directions']"
   ]
  },
  {
   "cell_type": "code",
   "execution_count": 103,
   "metadata": {},
   "outputs": [
    {
     "name": "stdout",
     "output_type": "stream",
     "text": [
      "[<re.Match object; span=(0, 7), match='this is'>, None, None]\n",
      "True\n"
     ]
    }
   ],
   "source": [
    "import re\n",
    "\n",
    "s = 'this is a test string'\n",
    "\n",
    "\n",
    "r1 = re.compile('this is')\n",
    "r2 = re.compile('the')\n",
    "r3 = re.compile('test')\n",
    "a = [regex.match(s) for regex in [r1, r2, r3]]\n",
    "b = any(a)\n",
    "\n",
    "print(a)\n",
    "print(b)\n"
   ]
  },
  {
   "cell_type": "code",
   "execution_count": null,
   "metadata": {},
   "outputs": [],
   "source": []
  }
 ],
 "metadata": {
  "kernelspec": {
   "display_name": "Python 3",
   "language": "python",
   "name": "python3"
  },
  "language_info": {
   "codemirror_mode": {
    "name": "ipython",
    "version": 3
   },
   "file_extension": ".py",
   "mimetype": "text/x-python",
   "name": "python",
   "nbconvert_exporter": "python",
   "pygments_lexer": "ipython3",
   "version": "3.7.4"
  }
 },
 "nbformat": 4,
 "nbformat_minor": 2
}
